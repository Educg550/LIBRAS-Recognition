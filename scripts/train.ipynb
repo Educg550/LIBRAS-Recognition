{
  "cells": [
    {
      "cell_type": "markdown",
      "metadata": {
        "id": "BeicsFhZTmPw"
      },
      "source": [
        "# LIBRAS Classification Based on Hand Landmarks Coordinates\n",
        "\n",
        "This Jupyter Notebook includes code for training and evaluating various `machine learning` models using our LIBRAS (Brazilian Sign Language) dataset."
      ]
    },
    {
      "cell_type": "markdown",
      "metadata": {
        "id": "MKEfPkIc7di7"
      },
      "source": [
        "\n",
        "**Training Results** (accuracy on test set):\n",
        "- `KNN` $=$ 99.88%\n",
        "- `Neural Network` $=$ 99.77%\n",
        "- `Random Forest` $=$ 99.75%\n",
        "- `SVM` $=$ 99.62%\n",
        "- `Logistic Regression` $=$ 98.19%"
      ]
    },
    {
      "cell_type": "code",
      "execution_count": 3,
      "metadata": {
        "id": "I4Ad801p8kkZ"
      },
      "outputs": [],
      "source": [
        "# utils\n",
        "import numpy as np\n",
        "import pandas as pd\n",
        "import matplotlib.pyplot as plt\n",
        "import joblib\n",
        "\n",
        "from sklearn.metrics import accuracy_score\n",
        "from sklearn.model_selection import train_test_split\n",
        "\n",
        "# models\n",
        "from keras.layers import Dense\n",
        "from keras.models import Sequential\n",
        "from sklearn.ensemble import RandomForestClassifier\n",
        "from sklearn.linear_model import LogisticRegression\n",
        "from sklearn.svm import SVC\n",
        "from sklearn.neighbors import KNeighborsClassifier\n"
      ]
    },
    {
      "cell_type": "markdown",
      "metadata": {
        "id": "X88AonPay2gg"
      },
      "source": [
        "## Load Data\n",
        "\n",
        "Before training the machine learning models, it is necessary to load the dataset from a CSV file. The dataset contains hand landmarks data for LIBRAS classification."
      ]
    },
    {
      "cell_type": "markdown",
      "metadata": {
        "id": "irVpK7QF7djB"
      },
      "source": [
        "\n",
        "The data format should be as follows: (N $\\times$ 64)\n",
        "\n",
        "| label |   x0  |   y0   |   z0  | $\\dots$ |  x20  |  y20  |  z20  |\n",
        "|-------|-------|-------|-------|---------|-------|-------|-------|\n",
        "| char  | float | float | float | $\\dots$ | float | float | float |"
      ]
    },
    {
      "cell_type": "markdown",
      "metadata": {
        "id": "pEa8LCnB7djB"
      },
      "source": [
        "\n",
        "21 different labels (all static latters in LIBRAS)\n",
        "\n",
        "| A | B | C | D | E | F | G | I | L | M | N | O | P | Q | R | S | T | U | V | W | Y |\n",
        "|---|---|---|---|---|---|---|---|---|---|---|---|---|---|---|---|---|---|---|---|---|"
      ]
    },
    {
      "cell_type": "code",
      "execution_count": 5,
      "metadata": {
        "colab": {
          "base_uri": "https://localhost:8080/",
          "height": 256
        },
        "id": "oyb9AwZ9juI9",
        "outputId": "078e1f13-3139-48f3-b172-bd90950d907d"
      },
      "outputs": [
        {
          "data": {
            "text/html": [
              "\n",
              "  <div id=\"df-52c06ddb-8aa9-45f2-8a35-fb7a8f570f78\" class=\"colab-df-container\">\n",
              "    <div>\n",
              "<style scoped>\n",
              "    .dataframe tbody tr th:only-of-type {\n",
              "        vertical-align: middle;\n",
              "    }\n",
              "\n",
              "    .dataframe tbody tr th {\n",
              "        vertical-align: top;\n",
              "    }\n",
              "\n",
              "    .dataframe thead th {\n",
              "        text-align: right;\n",
              "    }\n",
              "</style>\n",
              "<table border=\"1\" class=\"dataframe\">\n",
              "  <thead>\n",
              "    <tr style=\"text-align: right;\">\n",
              "      <th></th>\n",
              "      <th>label</th>\n",
              "      <th>x0</th>\n",
              "      <th>y0</th>\n",
              "      <th>z0</th>\n",
              "      <th>x1</th>\n",
              "      <th>y1</th>\n",
              "      <th>z1</th>\n",
              "      <th>x2</th>\n",
              "      <th>y2</th>\n",
              "      <th>z2</th>\n",
              "      <th>...</th>\n",
              "      <th>z17</th>\n",
              "      <th>x18</th>\n",
              "      <th>y18</th>\n",
              "      <th>z18</th>\n",
              "      <th>x19</th>\n",
              "      <th>y19</th>\n",
              "      <th>z19</th>\n",
              "      <th>x20</th>\n",
              "      <th>y20</th>\n",
              "      <th>z20</th>\n",
              "    </tr>\n",
              "  </thead>\n",
              "  <tbody>\n",
              "    <tr>\n",
              "      <th>0</th>\n",
              "      <td>A</td>\n",
              "      <td>0.173913</td>\n",
              "      <td>1.0</td>\n",
              "      <td>1.000000</td>\n",
              "      <td>0.515528</td>\n",
              "      <td>0.980645</td>\n",
              "      <td>0.510204</td>\n",
              "      <td>0.888199</td>\n",
              "      <td>0.696774</td>\n",
              "      <td>0.408163</td>\n",
              "      <td>...</td>\n",
              "      <td>0.551020</td>\n",
              "      <td>0.111801</td>\n",
              "      <td>0.090323</td>\n",
              "      <td>0.142857</td>\n",
              "      <td>0.124224</td>\n",
              "      <td>0.341935</td>\n",
              "      <td>0.387755</td>\n",
              "      <td>0.080745</td>\n",
              "      <td>0.406452</td>\n",
              "      <td>0.653061</td>\n",
              "    </tr>\n",
              "    <tr>\n",
              "      <th>1</th>\n",
              "      <td>A</td>\n",
              "      <td>0.130435</td>\n",
              "      <td>1.0</td>\n",
              "      <td>1.000000</td>\n",
              "      <td>0.478261</td>\n",
              "      <td>0.924051</td>\n",
              "      <td>0.447368</td>\n",
              "      <td>0.832298</td>\n",
              "      <td>0.645570</td>\n",
              "      <td>0.315789</td>\n",
              "      <td>...</td>\n",
              "      <td>0.578947</td>\n",
              "      <td>0.080745</td>\n",
              "      <td>0.126582</td>\n",
              "      <td>0.184211</td>\n",
              "      <td>0.111801</td>\n",
              "      <td>0.348101</td>\n",
              "      <td>0.500000</td>\n",
              "      <td>0.080745</td>\n",
              "      <td>0.354430</td>\n",
              "      <td>0.815789</td>\n",
              "    </tr>\n",
              "    <tr>\n",
              "      <th>2</th>\n",
              "      <td>A</td>\n",
              "      <td>0.141935</td>\n",
              "      <td>1.0</td>\n",
              "      <td>1.000000</td>\n",
              "      <td>0.490323</td>\n",
              "      <td>0.918239</td>\n",
              "      <td>0.564103</td>\n",
              "      <td>0.832258</td>\n",
              "      <td>0.635220</td>\n",
              "      <td>0.435897</td>\n",
              "      <td>...</td>\n",
              "      <td>0.461538</td>\n",
              "      <td>0.096774</td>\n",
              "      <td>0.125786</td>\n",
              "      <td>0.102564</td>\n",
              "      <td>0.122581</td>\n",
              "      <td>0.358491</td>\n",
              "      <td>0.461538</td>\n",
              "      <td>0.077419</td>\n",
              "      <td>0.377358</td>\n",
              "      <td>0.846154</td>\n",
              "    </tr>\n",
              "    <tr>\n",
              "      <th>3</th>\n",
              "      <td>A</td>\n",
              "      <td>0.138365</td>\n",
              "      <td>1.0</td>\n",
              "      <td>0.974359</td>\n",
              "      <td>0.515723</td>\n",
              "      <td>0.901840</td>\n",
              "      <td>0.564103</td>\n",
              "      <td>0.823899</td>\n",
              "      <td>0.595092</td>\n",
              "      <td>0.487179</td>\n",
              "      <td>...</td>\n",
              "      <td>0.589744</td>\n",
              "      <td>0.100629</td>\n",
              "      <td>0.104294</td>\n",
              "      <td>0.128205</td>\n",
              "      <td>0.125786</td>\n",
              "      <td>0.331288</td>\n",
              "      <td>0.435897</td>\n",
              "      <td>0.075472</td>\n",
              "      <td>0.361963</td>\n",
              "      <td>0.794872</td>\n",
              "    </tr>\n",
              "    <tr>\n",
              "      <th>4</th>\n",
              "      <td>A</td>\n",
              "      <td>0.156250</td>\n",
              "      <td>1.0</td>\n",
              "      <td>1.000000</td>\n",
              "      <td>0.531250</td>\n",
              "      <td>0.896341</td>\n",
              "      <td>0.575000</td>\n",
              "      <td>0.868750</td>\n",
              "      <td>0.615854</td>\n",
              "      <td>0.475000</td>\n",
              "      <td>...</td>\n",
              "      <td>0.525000</td>\n",
              "      <td>0.106250</td>\n",
              "      <td>0.115854</td>\n",
              "      <td>0.125000</td>\n",
              "      <td>0.143750</td>\n",
              "      <td>0.341463</td>\n",
              "      <td>0.450000</td>\n",
              "      <td>0.106250</td>\n",
              "      <td>0.378049</td>\n",
              "      <td>0.800000</td>\n",
              "    </tr>\n",
              "  </tbody>\n",
              "</table>\n",
              "<p>5 rows × 64 columns</p>\n",
              "</div>\n",
              "    <div class=\"colab-df-buttons\">\n",
              "\n",
              "  <div class=\"colab-df-container\">\n",
              "    <button class=\"colab-df-convert\" onclick=\"convertToInteractive('df-52c06ddb-8aa9-45f2-8a35-fb7a8f570f78')\"\n",
              "            title=\"Convert this dataframe to an interactive table.\"\n",
              "            style=\"display:none;\">\n",
              "\n",
              "  <svg xmlns=\"http://www.w3.org/2000/svg\" height=\"24px\" viewBox=\"0 -960 960 960\">\n",
              "    <path d=\"M120-120v-720h720v720H120Zm60-500h600v-160H180v160Zm220 220h160v-160H400v160Zm0 220h160v-160H400v160ZM180-400h160v-160H180v160Zm440 0h160v-160H620v160ZM180-180h160v-160H180v160Zm440 0h160v-160H620v160Z\"/>\n",
              "  </svg>\n",
              "    </button>\n",
              "\n",
              "  <style>\n",
              "    .colab-df-container {\n",
              "      display:flex;\n",
              "      gap: 12px;\n",
              "    }\n",
              "\n",
              "    .colab-df-convert {\n",
              "      background-color: #E8F0FE;\n",
              "      border: none;\n",
              "      border-radius: 50%;\n",
              "      cursor: pointer;\n",
              "      display: none;\n",
              "      fill: #1967D2;\n",
              "      height: 32px;\n",
              "      padding: 0 0 0 0;\n",
              "      width: 32px;\n",
              "    }\n",
              "\n",
              "    .colab-df-convert:hover {\n",
              "      background-color: #E2EBFA;\n",
              "      box-shadow: 0px 1px 2px rgba(60, 64, 67, 0.3), 0px 1px 3px 1px rgba(60, 64, 67, 0.15);\n",
              "      fill: #174EA6;\n",
              "    }\n",
              "\n",
              "    .colab-df-buttons div {\n",
              "      margin-bottom: 4px;\n",
              "    }\n",
              "\n",
              "    [theme=dark] .colab-df-convert {\n",
              "      background-color: #3B4455;\n",
              "      fill: #D2E3FC;\n",
              "    }\n",
              "\n",
              "    [theme=dark] .colab-df-convert:hover {\n",
              "      background-color: #434B5C;\n",
              "      box-shadow: 0px 1px 3px 1px rgba(0, 0, 0, 0.15);\n",
              "      filter: drop-shadow(0px 1px 2px rgba(0, 0, 0, 0.3));\n",
              "      fill: #FFFFFF;\n",
              "    }\n",
              "  </style>\n",
              "\n",
              "    <script>\n",
              "      const buttonEl =\n",
              "        document.querySelector('#df-52c06ddb-8aa9-45f2-8a35-fb7a8f570f78 button.colab-df-convert');\n",
              "      buttonEl.style.display =\n",
              "        google.colab.kernel.accessAllowed ? 'block' : 'none';\n",
              "\n",
              "      async function convertToInteractive(key) {\n",
              "        const element = document.querySelector('#df-52c06ddb-8aa9-45f2-8a35-fb7a8f570f78');\n",
              "        const dataTable =\n",
              "          await google.colab.kernel.invokeFunction('convertToInteractive',\n",
              "                                                    [key], {});\n",
              "        if (!dataTable) return;\n",
              "\n",
              "        const docLinkHtml = 'Like what you see? Visit the ' +\n",
              "          '<a target=\"_blank\" href=https://colab.research.google.com/notebooks/data_table.ipynb>data table notebook</a>'\n",
              "          + ' to learn more about interactive tables.';\n",
              "        element.innerHTML = '';\n",
              "        dataTable['output_type'] = 'display_data';\n",
              "        await google.colab.output.renderOutput(dataTable, element);\n",
              "        const docLink = document.createElement('div');\n",
              "        docLink.innerHTML = docLinkHtml;\n",
              "        element.appendChild(docLink);\n",
              "      }\n",
              "    </script>\n",
              "  </div>\n",
              "\n",
              "\n",
              "<div id=\"df-c9668613-9424-4759-af2e-b9176b6982c4\">\n",
              "  <button class=\"colab-df-quickchart\" onclick=\"quickchart('df-c9668613-9424-4759-af2e-b9176b6982c4')\"\n",
              "            title=\"Suggest charts\"\n",
              "            style=\"display:none;\">\n",
              "\n",
              "<svg xmlns=\"http://www.w3.org/2000/svg\" height=\"24px\"viewBox=\"0 0 24 24\"\n",
              "     width=\"24px\">\n",
              "    <g>\n",
              "        <path d=\"M19 3H5c-1.1 0-2 .9-2 2v14c0 1.1.9 2 2 2h14c1.1 0 2-.9 2-2V5c0-1.1-.9-2-2-2zM9 17H7v-7h2v7zm4 0h-2V7h2v10zm4 0h-2v-4h2v4z\"/>\n",
              "    </g>\n",
              "</svg>\n",
              "  </button>\n",
              "\n",
              "<style>\n",
              "  .colab-df-quickchart {\n",
              "      --bg-color: #E8F0FE;\n",
              "      --fill-color: #1967D2;\n",
              "      --hover-bg-color: #E2EBFA;\n",
              "      --hover-fill-color: #174EA6;\n",
              "      --disabled-fill-color: #AAA;\n",
              "      --disabled-bg-color: #DDD;\n",
              "  }\n",
              "\n",
              "  [theme=dark] .colab-df-quickchart {\n",
              "      --bg-color: #3B4455;\n",
              "      --fill-color: #D2E3FC;\n",
              "      --hover-bg-color: #434B5C;\n",
              "      --hover-fill-color: #FFFFFF;\n",
              "      --disabled-bg-color: #3B4455;\n",
              "      --disabled-fill-color: #666;\n",
              "  }\n",
              "\n",
              "  .colab-df-quickchart {\n",
              "    background-color: var(--bg-color);\n",
              "    border: none;\n",
              "    border-radius: 50%;\n",
              "    cursor: pointer;\n",
              "    display: none;\n",
              "    fill: var(--fill-color);\n",
              "    height: 32px;\n",
              "    padding: 0;\n",
              "    width: 32px;\n",
              "  }\n",
              "\n",
              "  .colab-df-quickchart:hover {\n",
              "    background-color: var(--hover-bg-color);\n",
              "    box-shadow: 0 1px 2px rgba(60, 64, 67, 0.3), 0 1px 3px 1px rgba(60, 64, 67, 0.15);\n",
              "    fill: var(--button-hover-fill-color);\n",
              "  }\n",
              "\n",
              "  .colab-df-quickchart-complete:disabled,\n",
              "  .colab-df-quickchart-complete:disabled:hover {\n",
              "    background-color: var(--disabled-bg-color);\n",
              "    fill: var(--disabled-fill-color);\n",
              "    box-shadow: none;\n",
              "  }\n",
              "\n",
              "  .colab-df-spinner {\n",
              "    border: 2px solid var(--fill-color);\n",
              "    border-color: transparent;\n",
              "    border-bottom-color: var(--fill-color);\n",
              "    animation:\n",
              "      spin 1s steps(1) infinite;\n",
              "  }\n",
              "\n",
              "  @keyframes spin {\n",
              "    0% {\n",
              "      border-color: transparent;\n",
              "      border-bottom-color: var(--fill-color);\n",
              "      border-left-color: var(--fill-color);\n",
              "    }\n",
              "    20% {\n",
              "      border-color: transparent;\n",
              "      border-left-color: var(--fill-color);\n",
              "      border-top-color: var(--fill-color);\n",
              "    }\n",
              "    30% {\n",
              "      border-color: transparent;\n",
              "      border-left-color: var(--fill-color);\n",
              "      border-top-color: var(--fill-color);\n",
              "      border-right-color: var(--fill-color);\n",
              "    }\n",
              "    40% {\n",
              "      border-color: transparent;\n",
              "      border-right-color: var(--fill-color);\n",
              "      border-top-color: var(--fill-color);\n",
              "    }\n",
              "    60% {\n",
              "      border-color: transparent;\n",
              "      border-right-color: var(--fill-color);\n",
              "    }\n",
              "    80% {\n",
              "      border-color: transparent;\n",
              "      border-right-color: var(--fill-color);\n",
              "      border-bottom-color: var(--fill-color);\n",
              "    }\n",
              "    90% {\n",
              "      border-color: transparent;\n",
              "      border-bottom-color: var(--fill-color);\n",
              "    }\n",
              "  }\n",
              "</style>\n",
              "\n",
              "  <script>\n",
              "    async function quickchart(key) {\n",
              "      const quickchartButtonEl =\n",
              "        document.querySelector('#' + key + ' button');\n",
              "      quickchartButtonEl.disabled = true;  // To prevent multiple clicks.\n",
              "      quickchartButtonEl.classList.add('colab-df-spinner');\n",
              "      try {\n",
              "        const charts = await google.colab.kernel.invokeFunction(\n",
              "            'suggestCharts', [key], {});\n",
              "      } catch (error) {\n",
              "        console.error('Error during call to suggestCharts:', error);\n",
              "      }\n",
              "      quickchartButtonEl.classList.remove('colab-df-spinner');\n",
              "      quickchartButtonEl.classList.add('colab-df-quickchart-complete');\n",
              "    }\n",
              "    (() => {\n",
              "      let quickchartButtonEl =\n",
              "        document.querySelector('#df-c9668613-9424-4759-af2e-b9176b6982c4 button');\n",
              "      quickchartButtonEl.style.display =\n",
              "        google.colab.kernel.accessAllowed ? 'block' : 'none';\n",
              "    })();\n",
              "  </script>\n",
              "</div>\n",
              "    </div>\n",
              "  </div>\n"
            ],
            "text/plain": [
              "  label        x0   y0        z0        x1        y1        z1        x2  \\\n",
              "0     A  0.173913  1.0  1.000000  0.515528  0.980645  0.510204  0.888199   \n",
              "1     A  0.130435  1.0  1.000000  0.478261  0.924051  0.447368  0.832298   \n",
              "2     A  0.141935  1.0  1.000000  0.490323  0.918239  0.564103  0.832258   \n",
              "3     A  0.138365  1.0  0.974359  0.515723  0.901840  0.564103  0.823899   \n",
              "4     A  0.156250  1.0  1.000000  0.531250  0.896341  0.575000  0.868750   \n",
              "\n",
              "         y2        z2  ...       z17       x18       y18       z18       x19  \\\n",
              "0  0.696774  0.408163  ...  0.551020  0.111801  0.090323  0.142857  0.124224   \n",
              "1  0.645570  0.315789  ...  0.578947  0.080745  0.126582  0.184211  0.111801   \n",
              "2  0.635220  0.435897  ...  0.461538  0.096774  0.125786  0.102564  0.122581   \n",
              "3  0.595092  0.487179  ...  0.589744  0.100629  0.104294  0.128205  0.125786   \n",
              "4  0.615854  0.475000  ...  0.525000  0.106250  0.115854  0.125000  0.143750   \n",
              "\n",
              "        y19       z19       x20       y20       z20  \n",
              "0  0.341935  0.387755  0.080745  0.406452  0.653061  \n",
              "1  0.348101  0.500000  0.080745  0.354430  0.815789  \n",
              "2  0.358491  0.461538  0.077419  0.377358  0.846154  \n",
              "3  0.331288  0.435897  0.075472  0.361963  0.794872  \n",
              "4  0.341463  0.450000  0.106250  0.378049  0.800000  \n",
              "\n",
              "[5 rows x 64 columns]"
            ]
          },
          "execution_count": 5,
          "metadata": {},
          "output_type": "execute_result"
        }
      ],
      "source": [
        "# Load the CSV file\n",
        "df = pd.read_csv('./dataset/data.csv')\n",
        "df.head()"
      ]
    },
    {
      "cell_type": "code",
      "execution_count": 6,
      "metadata": {
        "id": "EjsG_iylo6KA"
      },
      "outputs": [],
      "source": [
        "assert df.shape == (53760, 64)"
      ]
    },
    {
      "cell_type": "code",
      "execution_count": 7,
      "metadata": {
        "id": "FsJX6Pgt7W-L"
      },
      "outputs": [],
      "source": [
        "# The CSV file has target variable in column 0 and the other features in columns 1 to n-1\n",
        "X = df.iloc[:, 1:].values\n",
        "y = df.iloc[:, 0].values\n",
        "\n",
        "# Split the data into training, validation and testing sets\n",
        "X_train, X_test, y_train_cat, y_test_cat = train_test_split(X, y, test_size=0.1, random_state=10)\n",
        "\n",
        "# One Hot Encoding\n",
        "y_train = pd.get_dummies(y_train_cat).values\n",
        "y_test = pd.get_dummies(y_test_cat).values"
      ]
    },
    {
      "cell_type": "code",
      "execution_count": 8,
      "metadata": {
        "colab": {
          "base_uri": "https://localhost:8080/"
        },
        "id": "Gszhh8SloXo8",
        "outputId": "25e52399-8004-4bbd-9764-ae4c5d688a1e"
      },
      "outputs": [
        {
          "name": "stdout",
          "output_type": "stream",
          "text": [
            "   Train       Test\n",
            "(48384, 63) (5376, 63)\n",
            "(48384, 21) (5376, 21)\n"
          ]
        }
      ],
      "source": [
        "# shapes\n",
        "print('   Train       Test')\n",
        "print(np.shape(X_train), np.shape(X_test))\n",
        "print(np.shape(y_train), np.shape(y_test))"
      ]
    },
    {
      "cell_type": "markdown",
      "metadata": {
        "id": "aBN7gKb17djJ"
      },
      "source": [
        "$\\;$"
      ]
    },
    {
      "cell_type": "markdown",
      "metadata": {
        "id": "F2xExpVupBT5"
      },
      "source": [
        "## Neural Network"
      ]
    },
    {
      "cell_type": "code",
      "execution_count": 9,
      "metadata": {
        "id": "Y1aki0rr8GDg"
      },
      "outputs": [],
      "source": [
        "# input and output size\n",
        "n_features = 63\n",
        "n_classes = 21\n",
        "\n",
        "# Build the neural network\n",
        "nn = Sequential()\n",
        "nn.add(Dense(units=32, activation='sigmoid', input_dim=n_features))\n",
        "nn.add(Dense(units=n_classes, activation='softmax'))"
      ]
    },
    {
      "cell_type": "code",
      "execution_count": 10,
      "metadata": {
        "colab": {
          "base_uri": "https://localhost:8080/"
        },
        "id": "Jl-JiK5zm5Yn",
        "outputId": "22947e29-3c81-4082-a388-abee6fa2c50b"
      },
      "outputs": [
        {
          "name": "stdout",
          "output_type": "stream",
          "text": [
            "Model: \"sequential\"\n",
            "_________________________________________________________________\n",
            " Layer (type)                Output Shape              Param #   \n",
            "=================================================================\n",
            " dense (Dense)               (None, 32)                2048      \n",
            "                                                                 \n",
            " dense_1 (Dense)             (None, 21)                693       \n",
            "                                                                 \n",
            "=================================================================\n",
            "Total params: 2741 (10.71 KB)\n",
            "Trainable params: 2741 (10.71 KB)\n",
            "Non-trainable params: 0 (0.00 Byte)\n",
            "_________________________________________________________________\n"
          ]
        }
      ],
      "source": [
        "nn.summary()"
      ]
    },
    {
      "cell_type": "code",
      "execution_count": 11,
      "metadata": {
        "id": "PjgxSv1t8JRz"
      },
      "outputs": [],
      "source": [
        "nn.compile(optimizer='adam', loss='categorical_crossentropy', metrics=['accuracy'])"
      ]
    },
    {
      "cell_type": "code",
      "execution_count": 12,
      "metadata": {
        "colab": {
          "base_uri": "https://localhost:8080/"
        },
        "id": "KX3sCczWn6DB",
        "outputId": "e2d5e49b-fa52-4f7a-8b44-bc11dd1bf65b"
      },
      "outputs": [
        {
          "name": "stdout",
          "output_type": "stream",
          "text": [
            "Epoch 1/25\n",
            "1512/1512 [==============================] - 10s 3ms/step - loss: 1.9275 - accuracy: 0.5790 - val_loss: 1.0262 - val_accuracy: 0.7799\n",
            "Epoch 2/25\n",
            "1512/1512 [==============================] - 6s 4ms/step - loss: 0.7071 - accuracy: 0.8592 - val_loss: 0.5101 - val_accuracy: 0.8782\n",
            "Epoch 3/25\n",
            "1512/1512 [==============================] - 6s 4ms/step - loss: 0.4080 - accuracy: 0.8996 - val_loss: 0.3384 - val_accuracy: 0.9051\n",
            "Epoch 4/25\n",
            "1512/1512 [==============================] - 6s 4ms/step - loss: 0.2842 - accuracy: 0.9235 - val_loss: 0.2513 - val_accuracy: 0.9304\n",
            "Epoch 5/25\n",
            "1512/1512 [==============================] - 8s 5ms/step - loss: 0.2162 - accuracy: 0.9409 - val_loss: 0.1969 - val_accuracy: 0.9464\n",
            "Epoch 6/25\n",
            "1512/1512 [==============================] - 6s 4ms/step - loss: 0.1750 - accuracy: 0.9523 - val_loss: 0.1638 - val_accuracy: 0.9561\n",
            "Epoch 7/25\n",
            "1512/1512 [==============================] - 7s 4ms/step - loss: 0.1465 - accuracy: 0.9613 - val_loss: 0.1405 - val_accuracy: 0.9643\n",
            "Epoch 8/25\n",
            "1512/1512 [==============================] - 6s 4ms/step - loss: 0.1257 - accuracy: 0.9676 - val_loss: 0.1195 - val_accuracy: 0.9704\n",
            "Epoch 9/25\n",
            "1512/1512 [==============================] - 4s 3ms/step - loss: 0.1091 - accuracy: 0.9728 - val_loss: 0.1039 - val_accuracy: 0.9756\n",
            "Epoch 10/25\n",
            "1512/1512 [==============================] - 5s 3ms/step - loss: 0.0946 - accuracy: 0.9777 - val_loss: 0.0895 - val_accuracy: 0.9795\n",
            "Epoch 11/25\n",
            "1512/1512 [==============================] - 6s 4ms/step - loss: 0.0818 - accuracy: 0.9820 - val_loss: 0.0775 - val_accuracy: 0.9853\n",
            "Epoch 12/25\n",
            "1512/1512 [==============================] - 4s 3ms/step - loss: 0.0708 - accuracy: 0.9846 - val_loss: 0.0677 - val_accuracy: 0.9877\n",
            "Epoch 13/25\n",
            "1512/1512 [==============================] - 5s 3ms/step - loss: 0.0612 - accuracy: 0.9872 - val_loss: 0.0589 - val_accuracy: 0.9885\n",
            "Epoch 14/25\n",
            "1512/1512 [==============================] - 10s 7ms/step - loss: 0.0534 - accuracy: 0.9886 - val_loss: 0.0529 - val_accuracy: 0.9914\n",
            "Epoch 15/25\n",
            "1512/1512 [==============================] - 8s 5ms/step - loss: 0.0467 - accuracy: 0.9906 - val_loss: 0.0457 - val_accuracy: 0.9922\n",
            "Epoch 16/25\n",
            "1512/1512 [==============================] - 9s 6ms/step - loss: 0.0412 - accuracy: 0.9913 - val_loss: 0.0402 - val_accuracy: 0.9933\n",
            "Epoch 17/25\n",
            "1512/1512 [==============================] - 4s 3ms/step - loss: 0.0364 - accuracy: 0.9929 - val_loss: 0.0357 - val_accuracy: 0.9948\n",
            "Epoch 18/25\n",
            "1512/1512 [==============================] - 5s 3ms/step - loss: 0.0322 - accuracy: 0.9936 - val_loss: 0.0316 - val_accuracy: 0.9952\n",
            "Epoch 19/25\n",
            "1512/1512 [==============================] - 6s 4ms/step - loss: 0.0287 - accuracy: 0.9944 - val_loss: 0.0291 - val_accuracy: 0.9963\n",
            "Epoch 20/25\n",
            "1512/1512 [==============================] - 4s 3ms/step - loss: 0.0259 - accuracy: 0.9955 - val_loss: 0.0264 - val_accuracy: 0.9965\n",
            "Epoch 21/25\n",
            "1512/1512 [==============================] - 5s 3ms/step - loss: 0.0232 - accuracy: 0.9962 - val_loss: 0.0242 - val_accuracy: 0.9963\n",
            "Epoch 22/25\n",
            "1512/1512 [==============================] - 6s 4ms/step - loss: 0.0212 - accuracy: 0.9965 - val_loss: 0.0216 - val_accuracy: 0.9968\n",
            "Epoch 23/25\n",
            "1512/1512 [==============================] - 4s 3ms/step - loss: 0.0191 - accuracy: 0.9969 - val_loss: 0.0210 - val_accuracy: 0.9965\n",
            "Epoch 24/25\n",
            "1512/1512 [==============================] - 4s 3ms/step - loss: 0.0175 - accuracy: 0.9969 - val_loss: 0.0188 - val_accuracy: 0.9976\n",
            "Epoch 25/25\n",
            "1512/1512 [==============================] - 6s 4ms/step - loss: 0.0160 - accuracy: 0.9976 - val_loss: 0.0175 - val_accuracy: 0.9978\n"
          ]
        }
      ],
      "source": [
        "history = nn.fit(X_train, y_train,\n",
        "                    epochs=25,\n",
        "                    batch_size=32,\n",
        "                    validation_data=(X_test, y_test))"
      ]
    },
    {
      "cell_type": "code",
      "execution_count": 13,
      "metadata": {
        "colab": {
          "base_uri": "https://localhost:8080/"
        },
        "id": "-Qc0AIIu8MOJ",
        "outputId": "929ce75e-5d54-4a78-bc94-e80fa35c5953"
      },
      "outputs": [
        {
          "name": "stdout",
          "output_type": "stream",
          "text": [
            "168/168 [==============================] - 1s 3ms/step - loss: 0.0175 - accuracy: 0.9978\n"
          ]
        }
      ],
      "source": [
        "loss, accuracy = nn.evaluate(X_test, y_test)"
      ]
    },
    {
      "cell_type": "code",
      "execution_count": 14,
      "metadata": {
        "colab": {
          "base_uri": "https://localhost:8080/",
          "height": 391
        },
        "id": "CIM-vrwz_Azx",
        "outputId": "c133fe18-be94-4edb-a63d-f6f830594fb2"
      },
      "outputs": [
        {
          "data": {
            "image/png": "[encoded data removed]",
            "text/plain": [
              "<Figure size 800x400 with 2 Axes>"
            ]
          },
          "metadata": {},
          "output_type": "display_data"
        }
      ],
      "source": [
        "fig, ax = plt.subplots(2, 1)\n",
        "fig.set_size_inches(8, 4)\n",
        "\n",
        "ax[0].plot(history.history['accuracy'], color='red', label='train_acc')\n",
        "ax[0].plot(history.history['val_accuracy'], color='blue', label='val_acc')\n",
        "ax[0].set_title(\"Accuracy\")\n",
        "ax[0].legend()\n",
        "\n",
        "ax[1].plot(history.history['loss'], color='red', label='train_loss')\n",
        "ax[1].plot(history.history['val_loss'], color='blue', label='val_loss')\n",
        "ax[1].set_title(\"Loss\")\n",
        "ax[1].legend()\n",
        "\n",
        "plt.show()"
      ]
    },
    {
      "cell_type": "code",
      "execution_count": 15,
      "metadata": {
        "colab": {
          "base_uri": "https://localhost:8080/"
        },
        "id": "Pob2emzswDWA",
        "outputId": "5ba2c13a-f8f6-4654-ab0f-3d5cf6ff6cd2"
      },
      "outputs": [
        {
          "name": "stdout",
          "output_type": "stream",
          "text": [
            "loss: 0.01751793548464775\n",
            "accuracy: 0.9977678656578064\n"
          ]
        }
      ],
      "source": [
        "print(f'loss: {loss}')\n",
        "print(f'accuracy: {accuracy}')"
      ]
    },
    {
      "cell_type": "code",
      "execution_count": 16,
      "metadata": {
        "colab": {
          "base_uri": "https://localhost:8080/"
        },
        "id": "goYEg7Q5_WYj",
        "outputId": "3a6cb752-f9bb-46a8-f6d4-5c232e6353e8"
      },
      "outputs": [
        {
          "name": "stderr",
          "output_type": "stream",
          "text": [
            "/usr/local/lib/python3.10/dist-packages/keras/src/engine/training.py:3079: UserWarning: You are saving your model as an HDF5 file via `model.save()`. This file format is considered legacy. We recommend using instead the native Keras format, e.g. `model.save('my_model.keras')`.\n",
            "  saving_api.save_model(\n"
          ]
        }
      ],
      "source": [
        "nn.save('./models/nn_model.h5')"
      ]
    },
    {
      "cell_type": "markdown",
      "metadata": {
        "id": "0v8wHsAm7djP"
      },
      "source": [
        "$\\;$"
      ]
    },
    {
      "cell_type": "markdown",
      "metadata": {
        "id": "44mGn-4kqYm-"
      },
      "source": [
        "## Random Forest"
      ]
    },
    {
      "cell_type": "code",
      "execution_count": 17,
      "metadata": {
        "id": "XpusxeG0PTrU"
      },
      "outputs": [],
      "source": [
        "rf_model = RandomForestClassifier(n_estimators=7)"
      ]
    },
    {
      "cell_type": "code",
      "execution_count": 18,
      "metadata": {
        "colab": {
          "base_uri": "https://localhost:8080/",
          "height": 75
        },
        "id": "Rlap-dYYuj9Y",
        "outputId": "f7c9487b-f079-4c61-dbc1-1ad7548f2a7d"
      },
      "outputs": [
        {
          "data": {
            "text/html": [
              "<style>#sk-container-id-1 {color: black;background-color: white;}#sk-container-id-1 pre{padding: 0;}#sk-container-id-1 div.sk-toggleable {background-color: white;}#sk-container-id-1 label.sk-toggleable__label {cursor: pointer;display: block;width: 100%;margin-bottom: 0;padding: 0.3em;box-sizing: border-box;text-align: center;}#sk-container-id-1 label.sk-toggleable__label-arrow:before {content: \"▸\";float: left;margin-right: 0.25em;color: #696969;}#sk-container-id-1 label.sk-toggleable__label-arrow:hover:before {color: black;}#sk-container-id-1 div.sk-estimator:hover label.sk-toggleable__label-arrow:before {color: black;}#sk-container-id-1 div.sk-toggleable__content {max-height: 0;max-width: 0;overflow: hidden;text-align: left;background-color: #f0f8ff;}#sk-container-id-1 div.sk-toggleable__content pre {margin: 0.2em;color: black;border-radius: 0.25em;background-color: #f0f8ff;}#sk-container-id-1 input.sk-toggleable__control:checked~div.sk-toggleable__content {max-height: 200px;max-width: 100%;overflow: auto;}#sk-container-id-1 input.sk-toggleable__control:checked~label.sk-toggleable__label-arrow:before {content: \"▾\";}#sk-container-id-1 div.sk-estimator input.sk-toggleable__control:checked~label.sk-toggleable__label {background-color: #d4ebff;}#sk-container-id-1 div.sk-label input.sk-toggleable__control:checked~label.sk-toggleable__label {background-color: #d4ebff;}#sk-container-id-1 input.sk-hidden--visually {border: 0;clip: rect(1px 1px 1px 1px);clip: rect(1px, 1px, 1px, 1px);height: 1px;margin: -1px;overflow: hidden;padding: 0;position: absolute;width: 1px;}#sk-container-id-1 div.sk-estimator {font-family: monospace;background-color: #f0f8ff;border: 1px dotted black;border-radius: 0.25em;box-sizing: border-box;margin-bottom: 0.5em;}#sk-container-id-1 div.sk-estimator:hover {background-color: #d4ebff;}#sk-container-id-1 div.sk-parallel-item::after {content: \"\";width: 100%;border-bottom: 1px solid gray;flex-grow: 1;}#sk-container-id-1 div.sk-label:hover label.sk-toggleable__label {background-color: #d4ebff;}#sk-container-id-1 div.sk-serial::before {content: \"\";position: absolute;border-left: 1px solid gray;box-sizing: border-box;top: 0;bottom: 0;left: 50%;z-index: 0;}#sk-container-id-1 div.sk-serial {display: flex;flex-direction: column;align-items: center;background-color: white;padding-right: 0.2em;padding-left: 0.2em;position: relative;}#sk-container-id-1 div.sk-item {position: relative;z-index: 1;}#sk-container-id-1 div.sk-parallel {display: flex;align-items: stretch;justify-content: center;background-color: white;position: relative;}#sk-container-id-1 div.sk-item::before, #sk-container-id-1 div.sk-parallel-item::before {content: \"\";position: absolute;border-left: 1px solid gray;box-sizing: border-box;top: 0;bottom: 0;left: 50%;z-index: -1;}#sk-container-id-1 div.sk-parallel-item {display: flex;flex-direction: column;z-index: 1;position: relative;background-color: white;}#sk-container-id-1 div.sk-parallel-item:first-child::after {align-self: flex-end;width: 50%;}#sk-container-id-1 div.sk-parallel-item:last-child::after {align-self: flex-start;width: 50%;}#sk-container-id-1 div.sk-parallel-item:only-child::after {width: 0;}#sk-container-id-1 div.sk-dashed-wrapped {border: 1px dashed gray;margin: 0 0.4em 0.5em 0.4em;box-sizing: border-box;padding-bottom: 0.4em;background-color: white;}#sk-container-id-1 div.sk-label label {font-family: monospace;font-weight: bold;display: inline-block;line-height: 1.2em;}#sk-container-id-1 div.sk-label-container {text-align: center;}#sk-container-id-1 div.sk-container {/* jupyter's `normalize.less` sets `[hidden] { display: none; }` but bootstrap.min.css set `[hidden] { display: none !important; }` so we also need the `!important` here to be able to override the default hidden behavior on the sphinx rendered scikit-learn.org. See: https://github.com/scikit-learn/scikit-learn/issues/21755 */display: inline-block !important;position: relative;}#sk-container-id-1 div.sk-text-repr-fallback {display: none;}</style><div id=\"sk-container-id-1\" class=\"sk-top-container\"><div class=\"sk-text-repr-fallback\"><pre>RandomForestClassifier(n_estimators=7)</pre><b>In a Jupyter environment, please rerun this cell to show the HTML representation or trust the notebook. <br />On GitHub, the HTML representation is unable to render, please try loading this page with nbviewer.org.</b></div><div class=\"sk-container\" hidden><div class=\"sk-item\"><div class=\"sk-estimator sk-toggleable\"><input class=\"sk-toggleable__control sk-hidden--visually\" id=\"sk-estimator-id-1\" type=\"checkbox\" checked><label for=\"sk-estimator-id-1\" class=\"sk-toggleable__label sk-toggleable__label-arrow\">RandomForestClassifier</label><div class=\"sk-toggleable__content\"><pre>RandomForestClassifier(n_estimators=7)</pre></div></div></div></div></div>"
            ],
            "text/plain": [
              "RandomForestClassifier(n_estimators=7)"
            ]
          },
          "execution_count": 18,
          "metadata": {},
          "output_type": "execute_result"
        }
      ],
      "source": [
        "rf_model.fit(X_train, y_train)"
      ]
    },
    {
      "cell_type": "code",
      "execution_count": 19,
      "metadata": {
        "id": "vCtXTjBzvV99"
      },
      "outputs": [],
      "source": [
        "y_pred = rf_model.predict(X_test)"
      ]
    },
    {
      "cell_type": "code",
      "execution_count": 20,
      "metadata": {
        "colab": {
          "base_uri": "https://localhost:8080/"
        },
        "id": "1WDEyLC_vZh1",
        "outputId": "bcda752f-ecfd-4ed4-9a60-78f848b7c006"
      },
      "outputs": [
        {
          "name": "stdout",
          "output_type": "stream",
          "text": [
            "accuracy: 0.9975818452380952\n"
          ]
        }
      ],
      "source": [
        "accuracy = accuracy_score(y_pred, y_test)\n",
        "print(f\"accuracy: {accuracy}\")"
      ]
    },
    {
      "cell_type": "code",
      "execution_count": 21,
      "metadata": {
        "colab": {
          "base_uri": "https://localhost:8080/"
        },
        "id": "-AUbiZ1x4uqg",
        "outputId": "8f93a3ed-d3c6-4a4f-9872-e90b368caac2"
      },
      "outputs": [
        {
          "data": {
            "text/plain": [
              "['./models/rf_model.joblib']"
            ]
          },
          "execution_count": 21,
          "metadata": {},
          "output_type": "execute_result"
        }
      ],
      "source": [
        "# save\n",
        "joblib.dump(rf_model, './models/rf_model.joblib', compress=False)"
      ]
    },
    {
      "cell_type": "markdown",
      "metadata": {
        "id": "xmWVphIN7djU"
      },
      "source": [
        "$\\;$"
      ]
    },
    {
      "cell_type": "markdown",
      "metadata": {
        "id": "7HJ6r5L5rRL6"
      },
      "source": [
        "## Logistic Regression"
      ]
    },
    {
      "cell_type": "code",
      "execution_count": 22,
      "metadata": {
        "id": "SBrsioB7vshF"
      },
      "outputs": [],
      "source": [
        "logreg_model = LogisticRegression(max_iter=100)"
      ]
    },
    {
      "cell_type": "code",
      "execution_count": 23,
      "metadata": {
        "colab": {
          "base_uri": "https://localhost:8080/",
          "height": 234
        },
        "id": "R5XQIuJyrXBy",
        "outputId": "a3f803e8-c10a-4803-9589-b70a24dd780f"
      },
      "outputs": [
        {
          "name": "stderr",
          "output_type": "stream",
          "text": [
            "/usr/local/lib/python3.10/dist-packages/sklearn/linear_model/_logistic.py:458: ConvergenceWarning: lbfgs failed to converge (status=1):\n",
            "STOP: TOTAL NO. of ITERATIONS REACHED LIMIT.\n",
            "\n",
            "Increase the number of iterations (max_iter) or scale the data as shown in:\n",
            "    https://scikit-learn.org/stable/modules/preprocessing.html\n",
            "Please also refer to the documentation for alternative solver options:\n",
            "    https://scikit-learn.org/stable/modules/linear_model.html#logistic-regression\n",
            "  n_iter_i = _check_optimize_result(\n"
          ]
        },
        {
          "data": {
            "text/html": [
              "<style>#sk-container-id-2 {color: black;background-color: white;}#sk-container-id-2 pre{padding: 0;}#sk-container-id-2 div.sk-toggleable {background-color: white;}#sk-container-id-2 label.sk-toggleable__label {cursor: pointer;display: block;width: 100%;margin-bottom: 0;padding: 0.3em;box-sizing: border-box;text-align: center;}#sk-container-id-2 label.sk-toggleable__label-arrow:before {content: \"▸\";float: left;margin-right: 0.25em;color: #696969;}#sk-container-id-2 label.sk-toggleable__label-arrow:hover:before {color: black;}#sk-container-id-2 div.sk-estimator:hover label.sk-toggleable__label-arrow:before {color: black;}#sk-container-id-2 div.sk-toggleable__content {max-height: 0;max-width: 0;overflow: hidden;text-align: left;background-color: #f0f8ff;}#sk-container-id-2 div.sk-toggleable__content pre {margin: 0.2em;color: black;border-radius: 0.25em;background-color: #f0f8ff;}#sk-container-id-2 input.sk-toggleable__control:checked~div.sk-toggleable__content {max-height: 200px;max-width: 100%;overflow: auto;}#sk-container-id-2 input.sk-toggleable__control:checked~label.sk-toggleable__label-arrow:before {content: \"▾\";}#sk-container-id-2 div.sk-estimator input.sk-toggleable__control:checked~label.sk-toggleable__label {background-color: #d4ebff;}#sk-container-id-2 div.sk-label input.sk-toggleable__control:checked~label.sk-toggleable__label {background-color: #d4ebff;}#sk-container-id-2 input.sk-hidden--visually {border: 0;clip: rect(1px 1px 1px 1px);clip: rect(1px, 1px, 1px, 1px);height: 1px;margin: -1px;overflow: hidden;padding: 0;position: absolute;width: 1px;}#sk-container-id-2 div.sk-estimator {font-family: monospace;background-color: #f0f8ff;border: 1px dotted black;border-radius: 0.25em;box-sizing: border-box;margin-bottom: 0.5em;}#sk-container-id-2 div.sk-estimator:hover {background-color: #d4ebff;}#sk-container-id-2 div.sk-parallel-item::after {content: \"\";width: 100%;border-bottom: 1px solid gray;flex-grow: 1;}#sk-container-id-2 div.sk-label:hover label.sk-toggleable__label {background-color: #d4ebff;}#sk-container-id-2 div.sk-serial::before {content: \"\";position: absolute;border-left: 1px solid gray;box-sizing: border-box;top: 0;bottom: 0;left: 50%;z-index: 0;}#sk-container-id-2 div.sk-serial {display: flex;flex-direction: column;align-items: center;background-color: white;padding-right: 0.2em;padding-left: 0.2em;position: relative;}#sk-container-id-2 div.sk-item {position: relative;z-index: 1;}#sk-container-id-2 div.sk-parallel {display: flex;align-items: stretch;justify-content: center;background-color: white;position: relative;}#sk-container-id-2 div.sk-item::before, #sk-container-id-2 div.sk-parallel-item::before {content: \"\";position: absolute;border-left: 1px solid gray;box-sizing: border-box;top: 0;bottom: 0;left: 50%;z-index: -1;}#sk-container-id-2 div.sk-parallel-item {display: flex;flex-direction: column;z-index: 1;position: relative;background-color: white;}#sk-container-id-2 div.sk-parallel-item:first-child::after {align-self: flex-end;width: 50%;}#sk-container-id-2 div.sk-parallel-item:last-child::after {align-self: flex-start;width: 50%;}#sk-container-id-2 div.sk-parallel-item:only-child::after {width: 0;}#sk-container-id-2 div.sk-dashed-wrapped {border: 1px dashed gray;margin: 0 0.4em 0.5em 0.4em;box-sizing: border-box;padding-bottom: 0.4em;background-color: white;}#sk-container-id-2 div.sk-label label {font-family: monospace;font-weight: bold;display: inline-block;line-height: 1.2em;}#sk-container-id-2 div.sk-label-container {text-align: center;}#sk-container-id-2 div.sk-container {/* jupyter's `normalize.less` sets `[hidden] { display: none; }` but bootstrap.min.css set `[hidden] { display: none !important; }` so we also need the `!important` here to be able to override the default hidden behavior on the sphinx rendered scikit-learn.org. See: https://github.com/scikit-learn/scikit-learn/issues/21755 */display: inline-block !important;position: relative;}#sk-container-id-2 div.sk-text-repr-fallback {display: none;}</style><div id=\"sk-container-id-2\" class=\"sk-top-container\"><div class=\"sk-text-repr-fallback\"><pre>LogisticRegression()</pre><b>In a Jupyter environment, please rerun this cell to show the HTML representation or trust the notebook. <br />On GitHub, the HTML representation is unable to render, please try loading this page with nbviewer.org.</b></div><div class=\"sk-container\" hidden><div class=\"sk-item\"><div class=\"sk-estimator sk-toggleable\"><input class=\"sk-toggleable__control sk-hidden--visually\" id=\"sk-estimator-id-2\" type=\"checkbox\" checked><label for=\"sk-estimator-id-2\" class=\"sk-toggleable__label sk-toggleable__label-arrow\">LogisticRegression</label><div class=\"sk-toggleable__content\"><pre>LogisticRegression()</pre></div></div></div></div></div>"
            ],
            "text/plain": [
              "LogisticRegression()"
            ]
          },
          "execution_count": 23,
          "metadata": {},
          "output_type": "execute_result"
        }
      ],
      "source": [
        "logreg_model.fit(X_train, y_train_cat)"
      ]
    },
    {
      "cell_type": "code",
      "execution_count": 24,
      "metadata": {
        "id": "MFG4TOvgvyEM"
      },
      "outputs": [],
      "source": [
        "y_pred = logreg_model.predict(X_test)"
      ]
    },
    {
      "cell_type": "code",
      "execution_count": 25,
      "metadata": {
        "colab": {
          "base_uri": "https://localhost:8080/"
        },
        "id": "abApZIqisdR2",
        "outputId": "aea2fce7-59f0-4833-e084-cb55e91504ad"
      },
      "outputs": [
        {
          "name": "stdout",
          "output_type": "stream",
          "text": [
            "Accuracy: 0.9819568452380952\n"
          ]
        }
      ],
      "source": [
        "accuracy = accuracy_score(y_test_cat, y_pred)\n",
        "print(f\"Accuracy: {accuracy}\")"
      ]
    },
    {
      "cell_type": "code",
      "execution_count": 26,
      "metadata": {
        "colab": {
          "base_uri": "https://localhost:8080/"
        },
        "id": "elG2qxcR7xR-",
        "outputId": "e3eaf0f7-f990-4629-e0cc-b36a6191c886"
      },
      "outputs": [
        {
          "data": {
            "text/plain": [
              "['./models/logreg_model.joblib']"
            ]
          },
          "execution_count": 26,
          "metadata": {},
          "output_type": "execute_result"
        }
      ],
      "source": [
        "# save\n",
        "joblib.dump(logreg_model, './models/logreg_model.joblib', compress=False)"
      ]
    },
    {
      "cell_type": "markdown",
      "metadata": {
        "id": "Y-dc5TFM7dja"
      },
      "source": [
        "$\\;$"
      ]
    },
    {
      "cell_type": "markdown",
      "metadata": {
        "id": "vnUALv1JsoDS"
      },
      "source": [
        "## SVM"
      ]
    },
    {
      "cell_type": "code",
      "execution_count": 27,
      "metadata": {
        "id": "D1JFbHW3wAnL"
      },
      "outputs": [],
      "source": [
        "svm_model = SVC(kernel='linear', C=5)"
      ]
    },
    {
      "cell_type": "code",
      "execution_count": 28,
      "metadata": {
        "colab": {
          "base_uri": "https://localhost:8080/",
          "height": 75
        },
        "id": "_cWMd_W1vyNi",
        "outputId": "d18e1908-8be8-495f-ece7-a8887ab2db92"
      },
      "outputs": [
        {
          "data": {
            "text/html": [
              "<style>#sk-container-id-3 {color: black;background-color: white;}#sk-container-id-3 pre{padding: 0;}#sk-container-id-3 div.sk-toggleable {background-color: white;}#sk-container-id-3 label.sk-toggleable__label {cursor: pointer;display: block;width: 100%;margin-bottom: 0;padding: 0.3em;box-sizing: border-box;text-align: center;}#sk-container-id-3 label.sk-toggleable__label-arrow:before {content: \"▸\";float: left;margin-right: 0.25em;color: #696969;}#sk-container-id-3 label.sk-toggleable__label-arrow:hover:before {color: black;}#sk-container-id-3 div.sk-estimator:hover label.sk-toggleable__label-arrow:before {color: black;}#sk-container-id-3 div.sk-toggleable__content {max-height: 0;max-width: 0;overflow: hidden;text-align: left;background-color: #f0f8ff;}#sk-container-id-3 div.sk-toggleable__content pre {margin: 0.2em;color: black;border-radius: 0.25em;background-color: #f0f8ff;}#sk-container-id-3 input.sk-toggleable__control:checked~div.sk-toggleable__content {max-height: 200px;max-width: 100%;overflow: auto;}#sk-container-id-3 input.sk-toggleable__control:checked~label.sk-toggleable__label-arrow:before {content: \"▾\";}#sk-container-id-3 div.sk-estimator input.sk-toggleable__control:checked~label.sk-toggleable__label {background-color: #d4ebff;}#sk-container-id-3 div.sk-label input.sk-toggleable__control:checked~label.sk-toggleable__label {background-color: #d4ebff;}#sk-container-id-3 input.sk-hidden--visually {border: 0;clip: rect(1px 1px 1px 1px);clip: rect(1px, 1px, 1px, 1px);height: 1px;margin: -1px;overflow: hidden;padding: 0;position: absolute;width: 1px;}#sk-container-id-3 div.sk-estimator {font-family: monospace;background-color: #f0f8ff;border: 1px dotted black;border-radius: 0.25em;box-sizing: border-box;margin-bottom: 0.5em;}#sk-container-id-3 div.sk-estimator:hover {background-color: #d4ebff;}#sk-container-id-3 div.sk-parallel-item::after {content: \"\";width: 100%;border-bottom: 1px solid gray;flex-grow: 1;}#sk-container-id-3 div.sk-label:hover label.sk-toggleable__label {background-color: #d4ebff;}#sk-container-id-3 div.sk-serial::before {content: \"\";position: absolute;border-left: 1px solid gray;box-sizing: border-box;top: 0;bottom: 0;left: 50%;z-index: 0;}#sk-container-id-3 div.sk-serial {display: flex;flex-direction: column;align-items: center;background-color: white;padding-right: 0.2em;padding-left: 0.2em;position: relative;}#sk-container-id-3 div.sk-item {position: relative;z-index: 1;}#sk-container-id-3 div.sk-parallel {display: flex;align-items: stretch;justify-content: center;background-color: white;position: relative;}#sk-container-id-3 div.sk-item::before, #sk-container-id-3 div.sk-parallel-item::before {content: \"\";position: absolute;border-left: 1px solid gray;box-sizing: border-box;top: 0;bottom: 0;left: 50%;z-index: -1;}#sk-container-id-3 div.sk-parallel-item {display: flex;flex-direction: column;z-index: 1;position: relative;background-color: white;}#sk-container-id-3 div.sk-parallel-item:first-child::after {align-self: flex-end;width: 50%;}#sk-container-id-3 div.sk-parallel-item:last-child::after {align-self: flex-start;width: 50%;}#sk-container-id-3 div.sk-parallel-item:only-child::after {width: 0;}#sk-container-id-3 div.sk-dashed-wrapped {border: 1px dashed gray;margin: 0 0.4em 0.5em 0.4em;box-sizing: border-box;padding-bottom: 0.4em;background-color: white;}#sk-container-id-3 div.sk-label label {font-family: monospace;font-weight: bold;display: inline-block;line-height: 1.2em;}#sk-container-id-3 div.sk-label-container {text-align: center;}#sk-container-id-3 div.sk-container {/* jupyter's `normalize.less` sets `[hidden] { display: none; }` but bootstrap.min.css set `[hidden] { display: none !important; }` so we also need the `!important` here to be able to override the default hidden behavior on the sphinx rendered scikit-learn.org. See: https://github.com/scikit-learn/scikit-learn/issues/21755 */display: inline-block !important;position: relative;}#sk-container-id-3 div.sk-text-repr-fallback {display: none;}</style><div id=\"sk-container-id-3\" class=\"sk-top-container\"><div class=\"sk-text-repr-fallback\"><pre>SVC(C=5, kernel=&#x27;linear&#x27;)</pre><b>In a Jupyter environment, please rerun this cell to show the HTML representation or trust the notebook. <br />On GitHub, the HTML representation is unable to render, please try loading this page with nbviewer.org.</b></div><div class=\"sk-container\" hidden><div class=\"sk-item\"><div class=\"sk-estimator sk-toggleable\"><input class=\"sk-toggleable__control sk-hidden--visually\" id=\"sk-estimator-id-3\" type=\"checkbox\" checked><label for=\"sk-estimator-id-3\" class=\"sk-toggleable__label sk-toggleable__label-arrow\">SVC</label><div class=\"sk-toggleable__content\"><pre>SVC(C=5, kernel=&#x27;linear&#x27;)</pre></div></div></div></div></div>"
            ],
            "text/plain": [
              "SVC(C=5, kernel='linear')"
            ]
          },
          "execution_count": 28,
          "metadata": {},
          "output_type": "execute_result"
        }
      ],
      "source": [
        "svm_model.fit(X_train, y_train_cat)"
      ]
    },
    {
      "cell_type": "code",
      "execution_count": 29,
      "metadata": {
        "id": "mW2fwsDXv2p9"
      },
      "outputs": [],
      "source": [
        "y_pred = svm_model.predict(X_test)"
      ]
    },
    {
      "cell_type": "code",
      "execution_count": 30,
      "metadata": {
        "colab": {
          "base_uri": "https://localhost:8080/"
        },
        "id": "DdEAMMpjv2zn",
        "outputId": "76259476-ac46-478a-f60e-43d21ee38ef8"
      },
      "outputs": [
        {
          "name": "stdout",
          "output_type": "stream",
          "text": [
            "Accuracy: 0.9962797619047619\n"
          ]
        }
      ],
      "source": [
        "accuracy = accuracy_score(y_test_cat, y_pred)\n",
        "print(f\"Accuracy: {accuracy}\")"
      ]
    },
    {
      "cell_type": "code",
      "execution_count": 31,
      "metadata": {
        "colab": {
          "base_uri": "https://localhost:8080/"
        },
        "id": "0wSqms527p2r",
        "outputId": "29823695-6d5d-4c89-b9a6-4ffef0992c5a"
      },
      "outputs": [
        {
          "data": {
            "text/plain": [
              "['./models/svm_model.joblib']"
            ]
          },
          "execution_count": 31,
          "metadata": {},
          "output_type": "execute_result"
        }
      ],
      "source": [
        "# save\n",
        "joblib.dump(svm_model, './models/svm_model.joblib', compress=False)"
      ]
    },
    {
      "cell_type": "markdown",
      "metadata": {
        "id": "tBBF1DtT7dje"
      },
      "source": [
        "$\\;$"
      ]
    },
    {
      "cell_type": "markdown",
      "metadata": {
        "id": "6sC5yFXpsrZD"
      },
      "source": [
        "## KNN"
      ]
    },
    {
      "cell_type": "code",
      "execution_count": 32,
      "metadata": {
        "id": "Ox2T1w8Ywr1g"
      },
      "outputs": [],
      "source": [
        "knn_model = KNeighborsClassifier(n_neighbors=5)"
      ]
    },
    {
      "cell_type": "code",
      "execution_count": 33,
      "metadata": {
        "colab": {
          "base_uri": "https://localhost:8080/",
          "height": 75
        },
        "id": "C5p8nkXTwl7t",
        "outputId": "b196510a-724f-4651-c0cb-c4c952d537a2"
      },
      "outputs": [
        {
          "data": {
            "text/html": [
              "<style>#sk-container-id-4 {color: black;background-color: white;}#sk-container-id-4 pre{padding: 0;}#sk-container-id-4 div.sk-toggleable {background-color: white;}#sk-container-id-4 label.sk-toggleable__label {cursor: pointer;display: block;width: 100%;margin-bottom: 0;padding: 0.3em;box-sizing: border-box;text-align: center;}#sk-container-id-4 label.sk-toggleable__label-arrow:before {content: \"▸\";float: left;margin-right: 0.25em;color: #696969;}#sk-container-id-4 label.sk-toggleable__label-arrow:hover:before {color: black;}#sk-container-id-4 div.sk-estimator:hover label.sk-toggleable__label-arrow:before {color: black;}#sk-container-id-4 div.sk-toggleable__content {max-height: 0;max-width: 0;overflow: hidden;text-align: left;background-color: #f0f8ff;}#sk-container-id-4 div.sk-toggleable__content pre {margin: 0.2em;color: black;border-radius: 0.25em;background-color: #f0f8ff;}#sk-container-id-4 input.sk-toggleable__control:checked~div.sk-toggleable__content {max-height: 200px;max-width: 100%;overflow: auto;}#sk-container-id-4 input.sk-toggleable__control:checked~label.sk-toggleable__label-arrow:before {content: \"▾\";}#sk-container-id-4 div.sk-estimator input.sk-toggleable__control:checked~label.sk-toggleable__label {background-color: #d4ebff;}#sk-container-id-4 div.sk-label input.sk-toggleable__control:checked~label.sk-toggleable__label {background-color: #d4ebff;}#sk-container-id-4 input.sk-hidden--visually {border: 0;clip: rect(1px 1px 1px 1px);clip: rect(1px, 1px, 1px, 1px);height: 1px;margin: -1px;overflow: hidden;padding: 0;position: absolute;width: 1px;}#sk-container-id-4 div.sk-estimator {font-family: monospace;background-color: #f0f8ff;border: 1px dotted black;border-radius: 0.25em;box-sizing: border-box;margin-bottom: 0.5em;}#sk-container-id-4 div.sk-estimator:hover {background-color: #d4ebff;}#sk-container-id-4 div.sk-parallel-item::after {content: \"\";width: 100%;border-bottom: 1px solid gray;flex-grow: 1;}#sk-container-id-4 div.sk-label:hover label.sk-toggleable__label {background-color: #d4ebff;}#sk-container-id-4 div.sk-serial::before {content: \"\";position: absolute;border-left: 1px solid gray;box-sizing: border-box;top: 0;bottom: 0;left: 50%;z-index: 0;}#sk-container-id-4 div.sk-serial {display: flex;flex-direction: column;align-items: center;background-color: white;padding-right: 0.2em;padding-left: 0.2em;position: relative;}#sk-container-id-4 div.sk-item {position: relative;z-index: 1;}#sk-container-id-4 div.sk-parallel {display: flex;align-items: stretch;justify-content: center;background-color: white;position: relative;}#sk-container-id-4 div.sk-item::before, #sk-container-id-4 div.sk-parallel-item::before {content: \"\";position: absolute;border-left: 1px solid gray;box-sizing: border-box;top: 0;bottom: 0;left: 50%;z-index: -1;}#sk-container-id-4 div.sk-parallel-item {display: flex;flex-direction: column;z-index: 1;position: relative;background-color: white;}#sk-container-id-4 div.sk-parallel-item:first-child::after {align-self: flex-end;width: 50%;}#sk-container-id-4 div.sk-parallel-item:last-child::after {align-self: flex-start;width: 50%;}#sk-container-id-4 div.sk-parallel-item:only-child::after {width: 0;}#sk-container-id-4 div.sk-dashed-wrapped {border: 1px dashed gray;margin: 0 0.4em 0.5em 0.4em;box-sizing: border-box;padding-bottom: 0.4em;background-color: white;}#sk-container-id-4 div.sk-label label {font-family: monospace;font-weight: bold;display: inline-block;line-height: 1.2em;}#sk-container-id-4 div.sk-label-container {text-align: center;}#sk-container-id-4 div.sk-container {/* jupyter's `normalize.less` sets `[hidden] { display: none; }` but bootstrap.min.css set `[hidden] { display: none !important; }` so we also need the `!important` here to be able to override the default hidden behavior on the sphinx rendered scikit-learn.org. See: https://github.com/scikit-learn/scikit-learn/issues/21755 */display: inline-block !important;position: relative;}#sk-container-id-4 div.sk-text-repr-fallback {display: none;}</style><div id=\"sk-container-id-4\" class=\"sk-top-container\"><div class=\"sk-text-repr-fallback\"><pre>KNeighborsClassifier()</pre><b>In a Jupyter environment, please rerun this cell to show the HTML representation or trust the notebook. <br />On GitHub, the HTML representation is unable to render, please try loading this page with nbviewer.org.</b></div><div class=\"sk-container\" hidden><div class=\"sk-item\"><div class=\"sk-estimator sk-toggleable\"><input class=\"sk-toggleable__control sk-hidden--visually\" id=\"sk-estimator-id-4\" type=\"checkbox\" checked><label for=\"sk-estimator-id-4\" class=\"sk-toggleable__label sk-toggleable__label-arrow\">KNeighborsClassifier</label><div class=\"sk-toggleable__content\"><pre>KNeighborsClassifier()</pre></div></div></div></div></div>"
            ],
            "text/plain": [
              "KNeighborsClassifier()"
            ]
          },
          "execution_count": 33,
          "metadata": {},
          "output_type": "execute_result"
        }
      ],
      "source": [
        "knn_model.fit(X_train, y_train)"
      ]
    },
    {
      "cell_type": "code",
      "execution_count": 34,
      "metadata": {
        "id": "ow7FWVIwwnsa"
      },
      "outputs": [],
      "source": [
        "y_pred = knn_model.predict(X_test)"
      ]
    },
    {
      "cell_type": "code",
      "execution_count": 35,
      "metadata": {
        "colab": {
          "base_uri": "https://localhost:8080/"
        },
        "id": "jAW5CYlLwpqV",
        "outputId": "0f51954b-82d6-4797-d47c-78657329dcce"
      },
      "outputs": [
        {
          "name": "stdout",
          "output_type": "stream",
          "text": [
            "accuracy: 0.9988839285714286\n"
          ]
        }
      ],
      "source": [
        "accuracy = accuracy_score(y_test, y_pred)\n",
        "print(f\"accuracy: {accuracy}\")"
      ]
    },
    {
      "cell_type": "code",
      "execution_count": 36,
      "metadata": {
        "colab": {
          "base_uri": "https://localhost:8080/"
        },
        "id": "e7EH-lajwsQu",
        "outputId": "386ca174-2300-4933-f27f-fbe1b334583d"
      },
      "outputs": [
        {
          "data": {
            "text/plain": [
              "['./models/knn_model.joblib']"
            ]
          },
          "execution_count": 36,
          "metadata": {},
          "output_type": "execute_result"
        }
      ],
      "source": [
        "# save\n",
        "joblib.dump(knn_model, './models/knn_model.joblib', compress=0)"
      ]
    },
    {
      "cell_type": "markdown",
      "metadata": {
        "id": "iSbNyCUg_ray"
      },
      "source": [
        "\n",
        "# :)"
      ]
    }
  ],
  "metadata": {
    "accelerator": "GPU",
    "colab": {
      "gpuType": "T4",
      "provenance": []
    },
    "kernelspec": {
      "display_name": "Python 3 (ipykernel)",
      "language": "python",
      "name": "python3"
    },
    "language_info": {
      "codemirror_mode": {
        "name": "ipython",
        "version": 3
      },
      "file_extension": ".py",
      "mimetype": "text/x-python",
      "name": "python",
      "nbconvert_exporter": "python",
      "pygments_lexer": "ipython3",
      "version": "3.10.12"
    }
  },
  "nbformat": 4,
  "nbformat_minor": 0
}
