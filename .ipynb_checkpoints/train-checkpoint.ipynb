{
 "cells": [
  {
   "cell_type": "markdown",
   "metadata": {
    "id": "BeicsFhZTmPw"
   },
   "source": [
    "# LIBRAS Classification Based on Hand Landmarks Coordinates\n",
    "\n",
    "This Jupyter Notebook includes code for training and evaluating various `machine learning` models using our LIBRAS (Brazilian Sign Language) dataset."
   ]
  },
  {
   "cell_type": "markdown",
   "metadata": {},
   "source": [
    "\n",
    "**Training Results** (accuracy on test set):\n",
    "- `KNN` $=$ 99.91%\n",
    "- `Random Forest` $=$ 99.76%\n",
    "- `SVM` $=$ 99.69%\n",
    "- `Neural Network` $=$ 99.64%\n",
    "- `Logistic Regression` $=$ 98.38%"
   ]
  },
  {
   "cell_type": "markdown",
   "metadata": {},
   "source": [
    "\n",
    "## Libraries\n"
   ]
  },
  {
   "cell_type": "code",
   "execution_count": 1,
   "metadata": {
    "id": "I4Ad801p8kkZ"
   },
   "outputs": [],
   "source": [
    "# utils\n",
    "import numpy as np\n",
    "import pandas as pd\n",
    "import matplotlib.pyplot as plt\n",
    "import joblib\n",
    "\n",
    "from sklearn.metrics import accuracy_score\n",
    "from sklearn.model_selection import train_test_split\n",
    "\n",
    "# models\n",
    "from keras.layers import Dense\n",
    "from keras.models import Sequential\n",
    "from sklearn.ensemble import RandomForestClassifier\n",
    "from sklearn.linear_model import LogisticRegression\n",
    "from sklearn.svm import SVC\n",
    "from sklearn.neighbors import KNeighborsClassifier\n"
   ]
  },
  {
   "cell_type": "markdown",
   "metadata": {
    "id": "X88AonPay2gg"
   },
   "source": [
    "## Load Data\n",
    "\n",
    "Before training the machine learning models, it is necessary to load the dataset from a CSV file. The dataset contains hand landmarks data for LIBRAS classification."
   ]
  },
  {
   "cell_type": "markdown",
   "metadata": {},
   "source": [
    "\n",
    "The data format should be as follows: (N $\\times$ 64)\n",
    "\n",
    "| label |   x0  |   y0   |   z0  | $\\dots$ |  x20  |  y20  |  z20  |\n",
    "|-------|-------|-------|-------|---------|-------|-------|-------|\n",
    "| char  | float | float | float | $\\dots$ | float | float | float |"
   ]
  },
  {
   "cell_type": "markdown",
   "metadata": {},
   "source": [
    "\n",
    "and 22 different labels (all static latters in LIBRAS + whitespace)\n",
    "\n",
    "| ' ' | A | B | C | D | E | F | G | I | L | M | N | O | P | Q | R | S | T | U | V | W | Y |\n",
    "|-----|---|---|---|---|---|---|---|---|---|---|---|---|---|---|---|---|---|---|---|---|---|"
   ]
  },
  {
   "cell_type": "code",
   "execution_count": 1,
   "metadata": {
    "colab": {
     "base_uri": "https://localhost:8080/",
     "height": 256
    },
    "id": "oyb9AwZ9juI9",
    "outputId": "d886f6e8-39c3-4c98-e498-cae5e40c8be3"
   },
   "outputs": [
    {
     "data": {
      "text/html": [
       "<div>\n",
       "<style scoped>\n",
       "    .dataframe tbody tr th:only-of-type {\n",
       "        vertical-align: middle;\n",
       "    }\n",
       "\n",
       "    .dataframe tbody tr th {\n",
       "        vertical-align: top;\n",
       "    }\n",
       "\n",
       "    .dataframe thead th {\n",
       "        text-align: right;\n",
       "    }\n",
       "</style>\n",
       "<table border=\"1\" class=\"dataframe\">\n",
       "  <thead>\n",
       "    <tr style=\"text-align: right;\">\n",
       "      <th></th>\n",
       "      <th>label</th>\n",
       "      <th>x0</th>\n",
       "      <th>y0</th>\n",
       "      <th>z0</th>\n",
       "      <th>x1</th>\n",
       "      <th>y1</th>\n",
       "      <th>z1</th>\n",
       "      <th>x2</th>\n",
       "      <th>y2</th>\n",
       "      <th>z2</th>\n",
       "      <th>...</th>\n",
       "      <th>z17</th>\n",
       "      <th>x18</th>\n",
       "      <th>y18</th>\n",
       "      <th>z18</th>\n",
       "      <th>x19</th>\n",
       "      <th>y19</th>\n",
       "      <th>z19</th>\n",
       "      <th>x20</th>\n",
       "      <th>y20</th>\n",
       "      <th>z20</th>\n",
       "    </tr>\n",
       "  </thead>\n",
       "  <tbody>\n",
       "    <tr>\n",
       "      <th>0</th>\n",
       "      <td>A</td>\n",
       "      <td>0.173913</td>\n",
       "      <td>1.0</td>\n",
       "      <td>1.000000</td>\n",
       "      <td>0.515528</td>\n",
       "      <td>0.980645</td>\n",
       "      <td>0.510204</td>\n",
       "      <td>0.888199</td>\n",
       "      <td>0.696774</td>\n",
       "      <td>0.408163</td>\n",
       "      <td>...</td>\n",
       "      <td>0.551020</td>\n",
       "      <td>0.111801</td>\n",
       "      <td>0.090323</td>\n",
       "      <td>0.142857</td>\n",
       "      <td>0.124224</td>\n",
       "      <td>0.341935</td>\n",
       "      <td>0.387755</td>\n",
       "      <td>0.080745</td>\n",
       "      <td>0.406452</td>\n",
       "      <td>0.653061</td>\n",
       "    </tr>\n",
       "    <tr>\n",
       "      <th>1</th>\n",
       "      <td>A</td>\n",
       "      <td>0.130435</td>\n",
       "      <td>1.0</td>\n",
       "      <td>1.000000</td>\n",
       "      <td>0.478261</td>\n",
       "      <td>0.924051</td>\n",
       "      <td>0.447368</td>\n",
       "      <td>0.832298</td>\n",
       "      <td>0.645570</td>\n",
       "      <td>0.315789</td>\n",
       "      <td>...</td>\n",
       "      <td>0.578947</td>\n",
       "      <td>0.080745</td>\n",
       "      <td>0.126582</td>\n",
       "      <td>0.184211</td>\n",
       "      <td>0.111801</td>\n",
       "      <td>0.348101</td>\n",
       "      <td>0.500000</td>\n",
       "      <td>0.080745</td>\n",
       "      <td>0.354430</td>\n",
       "      <td>0.815789</td>\n",
       "    </tr>\n",
       "    <tr>\n",
       "      <th>2</th>\n",
       "      <td>A</td>\n",
       "      <td>0.141935</td>\n",
       "      <td>1.0</td>\n",
       "      <td>1.000000</td>\n",
       "      <td>0.490323</td>\n",
       "      <td>0.918239</td>\n",
       "      <td>0.564103</td>\n",
       "      <td>0.832258</td>\n",
       "      <td>0.635220</td>\n",
       "      <td>0.435897</td>\n",
       "      <td>...</td>\n",
       "      <td>0.461538</td>\n",
       "      <td>0.096774</td>\n",
       "      <td>0.125786</td>\n",
       "      <td>0.102564</td>\n",
       "      <td>0.122581</td>\n",
       "      <td>0.358491</td>\n",
       "      <td>0.461538</td>\n",
       "      <td>0.077419</td>\n",
       "      <td>0.377358</td>\n",
       "      <td>0.846154</td>\n",
       "    </tr>\n",
       "    <tr>\n",
       "      <th>3</th>\n",
       "      <td>A</td>\n",
       "      <td>0.138365</td>\n",
       "      <td>1.0</td>\n",
       "      <td>0.974359</td>\n",
       "      <td>0.515723</td>\n",
       "      <td>0.901840</td>\n",
       "      <td>0.564103</td>\n",
       "      <td>0.823899</td>\n",
       "      <td>0.595092</td>\n",
       "      <td>0.487179</td>\n",
       "      <td>...</td>\n",
       "      <td>0.589744</td>\n",
       "      <td>0.100629</td>\n",
       "      <td>0.104294</td>\n",
       "      <td>0.128205</td>\n",
       "      <td>0.125786</td>\n",
       "      <td>0.331288</td>\n",
       "      <td>0.435897</td>\n",
       "      <td>0.075472</td>\n",
       "      <td>0.361963</td>\n",
       "      <td>0.794872</td>\n",
       "    </tr>\n",
       "    <tr>\n",
       "      <th>4</th>\n",
       "      <td>A</td>\n",
       "      <td>0.156250</td>\n",
       "      <td>1.0</td>\n",
       "      <td>1.000000</td>\n",
       "      <td>0.531250</td>\n",
       "      <td>0.896341</td>\n",
       "      <td>0.575000</td>\n",
       "      <td>0.868750</td>\n",
       "      <td>0.615854</td>\n",
       "      <td>0.475000</td>\n",
       "      <td>...</td>\n",
       "      <td>0.525000</td>\n",
       "      <td>0.106250</td>\n",
       "      <td>0.115854</td>\n",
       "      <td>0.125000</td>\n",
       "      <td>0.143750</td>\n",
       "      <td>0.341463</td>\n",
       "      <td>0.450000</td>\n",
       "      <td>0.106250</td>\n",
       "      <td>0.378049</td>\n",
       "      <td>0.800000</td>\n",
       "    </tr>\n",
       "  </tbody>\n",
       "</table>\n",
       "<p>5 rows × 64 columns</p>\n",
       "</div>"
      ],
      "text/plain": [
       "  label        x0   y0        z0        x1        y1        z1        x2  \\\n",
       "0     A  0.173913  1.0  1.000000  0.515528  0.980645  0.510204  0.888199   \n",
       "1     A  0.130435  1.0  1.000000  0.478261  0.924051  0.447368  0.832298   \n",
       "2     A  0.141935  1.0  1.000000  0.490323  0.918239  0.564103  0.832258   \n",
       "3     A  0.138365  1.0  0.974359  0.515723  0.901840  0.564103  0.823899   \n",
       "4     A  0.156250  1.0  1.000000  0.531250  0.896341  0.575000  0.868750   \n",
       "\n",
       "         y2        z2  ...       z17       x18       y18       z18       x19  \\\n",
       "0  0.696774  0.408163  ...  0.551020  0.111801  0.090323  0.142857  0.124224   \n",
       "1  0.645570  0.315789  ...  0.578947  0.080745  0.126582  0.184211  0.111801   \n",
       "2  0.635220  0.435897  ...  0.461538  0.096774  0.125786  0.102564  0.122581   \n",
       "3  0.595092  0.487179  ...  0.589744  0.100629  0.104294  0.128205  0.125786   \n",
       "4  0.615854  0.475000  ...  0.525000  0.106250  0.115854  0.125000  0.143750   \n",
       "\n",
       "        y19       z19       x20       y20       z20  \n",
       "0  0.341935  0.387755  0.080745  0.406452  0.653061  \n",
       "1  0.348101  0.500000  0.080745  0.354430  0.815789  \n",
       "2  0.358491  0.461538  0.077419  0.377358  0.846154  \n",
       "3  0.331288  0.435897  0.075472  0.361963  0.794872  \n",
       "4  0.341463  0.450000  0.106250  0.378049  0.800000  \n",
       "\n",
       "[5 rows x 64 columns]"
      ]
     },
     "execution_count": 1,
     "metadata": {},
     "output_type": "execute_result"
    }
   ],
   "source": [
    "# Load the CSV file\n",
    "df = pd.read_csv('./dataset/data.csv')\n",
    "df.head()"
   ]
  },
  {
   "cell_type": "code",
   "execution_count": 5,
   "metadata": {
    "id": "EjsG_iylo6KA"
   },
   "outputs": [],
   "source": [
    "assert df.shape == (56320, 64)"
   ]
  },
  {
   "cell_type": "code",
   "execution_count": 6,
   "metadata": {
    "id": "FsJX6Pgt7W-L"
   },
   "outputs": [],
   "source": [
    "# The CSV file has target variable in column 0 and the other features in columns 1 to n-1\n",
    "X = df.iloc[:, 1:].values\n",
    "y = df.iloc[:, 0].values\n",
    "\n",
    "# Split the data into training, validation and testing sets\n",
    "X_train, X_test, y_train_cat, y_test_cat = train_test_split(X, y, test_size=0.1, random_state=10)\n",
    "\n",
    "# One Hot Encoding\n",
    "y_train = pd.get_dummies(y_train_cat).values\n",
    "y_test = pd.get_dummies(y_test_cat).values"
   ]
  },
  {
   "cell_type": "code",
   "execution_count": 7,
   "metadata": {
    "colab": {
     "base_uri": "https://localhost:8080/"
    },
    "id": "Gszhh8SloXo8",
    "outputId": "802c9d42-1a3d-4957-caf8-5a378da9964b"
   },
   "outputs": [
    {
     "name": "stdout",
     "output_type": "stream",
     "text": [
      "   Train       Test\n",
      "(50688, 63) (5632, 63)\n",
      "(50688, 22) (5632, 22)\n"
     ]
    }
   ],
   "source": [
    "# shapes\n",
    "print('   Train       Test')\n",
    "print(np.shape(X_train), np.shape(X_test))\n",
    "print(np.shape(y_train), np.shape(y_test))"
   ]
  },
  {
   "cell_type": "markdown",
   "metadata": {},
   "source": [
    "$\\;$"
   ]
  },
  {
   "cell_type": "markdown",
   "metadata": {
    "id": "F2xExpVupBT5"
   },
   "source": [
    "## Neural Network"
   ]
  },
  {
   "cell_type": "code",
   "execution_count": 8,
   "metadata": {
    "id": "Y1aki0rr8GDg"
   },
   "outputs": [],
   "source": [
    "# input and output size\n",
    "n_features = 63\n",
    "n_classes = 22\n",
    "\n",
    "# Build the neural network\n",
    "nn = Sequential()\n",
    "nn.add(Dense(units=32, activation='sigmoid', input_dim=n_features))\n",
    "nn.add(Dense(units=n_classes, activation='softmax'))"
   ]
  },
  {
   "cell_type": "code",
   "execution_count": 9,
   "metadata": {
    "colab": {
     "base_uri": "https://localhost:8080/"
    },
    "id": "Jl-JiK5zm5Yn",
    "outputId": "95aa80b3-ca5b-4f5d-e291-7331913ff78d"
   },
   "outputs": [
    {
     "name": "stdout",
     "output_type": "stream",
     "text": [
      "Model: \"sequential\"\n",
      "_________________________________________________________________\n",
      " Layer (type)                Output Shape              Param #   \n",
      "=================================================================\n",
      " dense (Dense)               (None, 32)                2048      \n",
      "                                                                 \n",
      " dense_1 (Dense)             (None, 22)                726       \n",
      "                                                                 \n",
      "=================================================================\n",
      "Total params: 2774 (10.84 KB)\n",
      "Trainable params: 2774 (10.84 KB)\n",
      "Non-trainable params: 0 (0.00 Byte)\n",
      "_________________________________________________________________\n"
     ]
    }
   ],
   "source": [
    "nn.summary()"
   ]
  },
  {
   "cell_type": "code",
   "execution_count": 10,
   "metadata": {
    "id": "PjgxSv1t8JRz"
   },
   "outputs": [],
   "source": [
    "nn.compile(optimizer='adam', loss='categorical_crossentropy', metrics=['accuracy'])"
   ]
  },
  {
   "cell_type": "code",
   "execution_count": 11,
   "metadata": {
    "colab": {
     "base_uri": "https://localhost:8080/"
    },
    "id": "KX3sCczWn6DB",
    "outputId": "c04ea8bc-6ff6-4455-caef-a12f58352612"
   },
   "outputs": [
    {
     "name": "stdout",
     "output_type": "stream",
     "text": [
      "Epoch 1/25\n",
      "1584/1584 [==============================] - 11s 4ms/step - loss: 2.0148 - accuracy: 0.5839 - val_loss: 1.0825 - val_accuracy: 0.8192\n",
      "Epoch 2/25\n",
      "1584/1584 [==============================] - 5s 3ms/step - loss: 0.7308 - accuracy: 0.8579 - val_loss: 0.5212 - val_accuracy: 0.8773\n",
      "Epoch 3/25\n",
      "1584/1584 [==============================] - 6s 4ms/step - loss: 0.4180 - accuracy: 0.8995 - val_loss: 0.3486 - val_accuracy: 0.9050\n",
      "Epoch 4/25\n",
      "1584/1584 [==============================] - 5s 3ms/step - loss: 0.2937 - accuracy: 0.9208 - val_loss: 0.2515 - val_accuracy: 0.9363\n",
      "Epoch 5/25\n",
      "1584/1584 [==============================] - 5s 3ms/step - loss: 0.2248 - accuracy: 0.9382 - val_loss: 0.1985 - val_accuracy: 0.9444\n",
      "Epoch 6/25\n",
      "1584/1584 [==============================] - 5s 3ms/step - loss: 0.1815 - accuracy: 0.9509 - val_loss: 0.1656 - val_accuracy: 0.9540\n",
      "Epoch 7/25\n",
      "1584/1584 [==============================] - 4s 3ms/step - loss: 0.1516 - accuracy: 0.9605 - val_loss: 0.1375 - val_accuracy: 0.9599\n",
      "Epoch 8/25\n",
      "1584/1584 [==============================] - 5s 3ms/step - loss: 0.1282 - accuracy: 0.9674 - val_loss: 0.1187 - val_accuracy: 0.9677\n",
      "Epoch 9/25\n",
      "1584/1584 [==============================] - 5s 3ms/step - loss: 0.1100 - accuracy: 0.9730 - val_loss: 0.1026 - val_accuracy: 0.9728\n",
      "Epoch 10/25\n",
      "1584/1584 [==============================] - 4s 3ms/step - loss: 0.0944 - accuracy: 0.9778 - val_loss: 0.0883 - val_accuracy: 0.9787\n",
      "Epoch 11/25\n",
      "1584/1584 [==============================] - 6s 4ms/step - loss: 0.0812 - accuracy: 0.9813 - val_loss: 0.0768 - val_accuracy: 0.9805\n",
      "Epoch 12/25\n",
      "1584/1584 [==============================] - 4s 3ms/step - loss: 0.0699 - accuracy: 0.9845 - val_loss: 0.0651 - val_accuracy: 0.9838\n",
      "Epoch 13/25\n",
      "1584/1584 [==============================] - 5s 3ms/step - loss: 0.0604 - accuracy: 0.9866 - val_loss: 0.0571 - val_accuracy: 0.9869\n",
      "Epoch 14/25\n",
      "1584/1584 [==============================] - 6s 3ms/step - loss: 0.0526 - accuracy: 0.9886 - val_loss: 0.0495 - val_accuracy: 0.9876\n",
      "Epoch 15/25\n",
      "1584/1584 [==============================] - 4s 3ms/step - loss: 0.0460 - accuracy: 0.9901 - val_loss: 0.0434 - val_accuracy: 0.9899\n",
      "Epoch 16/25\n",
      "1584/1584 [==============================] - 4s 3ms/step - loss: 0.0406 - accuracy: 0.9914 - val_loss: 0.0381 - val_accuracy: 0.9913\n",
      "Epoch 17/25\n",
      "1584/1584 [==============================] - 6s 4ms/step - loss: 0.0359 - accuracy: 0.9921 - val_loss: 0.0355 - val_accuracy: 0.9929\n",
      "Epoch 18/25\n",
      "1584/1584 [==============================] - 4s 3ms/step - loss: 0.0320 - accuracy: 0.9934 - val_loss: 0.0312 - val_accuracy: 0.9940\n",
      "Epoch 19/25\n",
      "1584/1584 [==============================] - 5s 3ms/step - loss: 0.0285 - accuracy: 0.9946 - val_loss: 0.0311 - val_accuracy: 0.9934\n",
      "Epoch 20/25\n",
      "1584/1584 [==============================] - 5s 3ms/step - loss: 0.0257 - accuracy: 0.9953 - val_loss: 0.0258 - val_accuracy: 0.9950\n",
      "Epoch 21/25\n",
      "1584/1584 [==============================] - 4s 3ms/step - loss: 0.0232 - accuracy: 0.9960 - val_loss: 0.0222 - val_accuracy: 0.9957\n",
      "Epoch 22/25\n",
      "1584/1584 [==============================] - 5s 3ms/step - loss: 0.0211 - accuracy: 0.9963 - val_loss: 0.0207 - val_accuracy: 0.9964\n",
      "Epoch 23/25\n",
      "1584/1584 [==============================] - 5s 3ms/step - loss: 0.0194 - accuracy: 0.9967 - val_loss: 0.0192 - val_accuracy: 0.9968\n",
      "Epoch 24/25\n",
      "1584/1584 [==============================] - 4s 3ms/step - loss: 0.0174 - accuracy: 0.9973 - val_loss: 0.0174 - val_accuracy: 0.9977\n",
      "Epoch 25/25\n",
      "1584/1584 [==============================] - 7s 4ms/step - loss: 0.0160 - accuracy: 0.9975 - val_loss: 0.0165 - val_accuracy: 0.9964\n"
     ]
    }
   ],
   "source": [
    "history = nn.fit(X_train, y_train,\n",
    "                    epochs=25,\n",
    "                    batch_size=32,\n",
    "                    validation_data=(X_test, y_test))"
   ]
  },
  {
   "cell_type": "code",
   "execution_count": 12,
   "metadata": {
    "colab": {
     "base_uri": "https://localhost:8080/"
    },
    "id": "-Qc0AIIu8MOJ",
    "outputId": "b33aa465-0fd8-41ce-8ab5-3699d2912458"
   },
   "outputs": [
    {
     "name": "stdout",
     "output_type": "stream",
     "text": [
      "176/176 [==============================] - 1s 3ms/step - loss: 0.0165 - accuracy: 0.9964\n"
     ]
    }
   ],
   "source": [
    "loss, accuracy = nn.evaluate(X_test, y_test)"
   ]
  },
  {
   "cell_type": "code",
   "execution_count": 13,
   "metadata": {
    "colab": {
     "base_uri": "https://localhost:8080/",
     "height": 391
    },
    "id": "CIM-vrwz_Azx",
    "outputId": "3e72bfd1-4736-4725-d80f-a80c5e026357"
   },
   "outputs": [
    {
     "data": {
      "image/png": "[encoded data removed]",
      "text/plain": [
       "<Figure size 800x400 with 2 Axes>"
      ]
     },
     "metadata": {},
     "output_type": "display_data"
    }
   ],
   "source": [
    "fig, ax = plt.subplots(2, 1)\n",
    "fig.set_size_inches(8, 4)\n",
    "\n",
    "ax[0].plot(history.history['accuracy'], color='red', label='train_acc')\n",
    "ax[0].plot(history.history['val_accuracy'], color='blue', label='val_acc')\n",
    "ax[0].set_title(\"Accuracy\")\n",
    "ax[0].legend()\n",
    "\n",
    "ax[1].plot(history.history['loss'], color='red', label='train_loss')\n",
    "ax[1].plot(history.history['val_loss'], color='blue', label='val_loss')\n",
    "ax[1].set_title(\"Loss\")\n",
    "ax[1].legend()\n",
    "\n",
    "plt.show()"
   ]
  },
  {
   "cell_type": "code",
   "execution_count": 14,
   "metadata": {
    "colab": {
     "base_uri": "https://localhost:8080/"
    },
    "id": "Pob2emzswDWA",
    "outputId": "f8be7c0a-5a08-47b7-f36e-9c2b592e44db"
   },
   "outputs": [
    {
     "name": "stdout",
     "output_type": "stream",
     "text": [
      "loss: 0.01646244525909424\n",
      "accuracy: 0.9964488744735718\n"
     ]
    }
   ],
   "source": [
    "print(f'loss: {loss}')\n",
    "print(f'accuracy: {accuracy}')"
   ]
  },
  {
   "cell_type": "code",
   "execution_count": 15,
   "metadata": {
    "colab": {
     "base_uri": "https://localhost:8080/"
    },
    "id": "goYEg7Q5_WYj",
    "outputId": "b1098c37-1806-43c5-b584-a542c1291cad"
   },
   "outputs": [
    {
     "name": "stderr",
     "output_type": "stream",
     "text": [
      "/usr/local/lib/python3.10/dist-packages/keras/src/engine/training.py:3079: UserWarning: You are saving your model as an HDF5 file via `model.save()`. This file format is considered legacy. We recommend using instead the native Keras format, e.g. `model.save('my_model.keras')`.\n",
      "  saving_api.save_model(\n"
     ]
    }
   ],
   "source": [
    "nn.save('./models/nn_model.h5')"
   ]
  },
  {
   "cell_type": "markdown",
   "metadata": {},
   "source": [
    "$\\;$"
   ]
  },
  {
   "cell_type": "markdown",
   "metadata": {
    "id": "44mGn-4kqYm-"
   },
   "source": [
    "## Random Forest"
   ]
  },
  {
   "cell_type": "code",
   "execution_count": 16,
   "metadata": {
    "id": "XpusxeG0PTrU"
   },
   "outputs": [],
   "source": [
    "rf_model = RandomForestClassifier(n_estimators=7)"
   ]
  },
  {
   "cell_type": "code",
   "execution_count": 17,
   "metadata": {
    "colab": {
     "base_uri": "https://localhost:8080/",
     "height": 75
    },
    "id": "Rlap-dYYuj9Y",
    "outputId": "2702de7d-2e8f-42ca-e5da-6246c16dbc55"
   },
   "outputs": [
    {
     "data": {
      "text/html": [
       "<style>#sk-container-id-1 {color: black;background-color: white;}#sk-container-id-1 pre{padding: 0;}#sk-container-id-1 div.sk-toggleable {background-color: white;}#sk-container-id-1 label.sk-toggleable__label {cursor: pointer;display: block;width: 100%;margin-bottom: 0;padding: 0.3em;box-sizing: border-box;text-align: center;}#sk-container-id-1 label.sk-toggleable__label-arrow:before {content: \"▸\";float: left;margin-right: 0.25em;color: #696969;}#sk-container-id-1 label.sk-toggleable__label-arrow:hover:before {color: black;}#sk-container-id-1 div.sk-estimator:hover label.sk-toggleable__label-arrow:before {color: black;}#sk-container-id-1 div.sk-toggleable__content {max-height: 0;max-width: 0;overflow: hidden;text-align: left;background-color: #f0f8ff;}#sk-container-id-1 div.sk-toggleable__content pre {margin: 0.2em;color: black;border-radius: 0.25em;background-color: #f0f8ff;}#sk-container-id-1 input.sk-toggleable__control:checked~div.sk-toggleable__content {max-height: 200px;max-width: 100%;overflow: auto;}#sk-container-id-1 input.sk-toggleable__control:checked~label.sk-toggleable__label-arrow:before {content: \"▾\";}#sk-container-id-1 div.sk-estimator input.sk-toggleable__control:checked~label.sk-toggleable__label {background-color: #d4ebff;}#sk-container-id-1 div.sk-label input.sk-toggleable__control:checked~label.sk-toggleable__label {background-color: #d4ebff;}#sk-container-id-1 input.sk-hidden--visually {border: 0;clip: rect(1px 1px 1px 1px);clip: rect(1px, 1px, 1px, 1px);height: 1px;margin: -1px;overflow: hidden;padding: 0;position: absolute;width: 1px;}#sk-container-id-1 div.sk-estimator {font-family: monospace;background-color: #f0f8ff;border: 1px dotted black;border-radius: 0.25em;box-sizing: border-box;margin-bottom: 0.5em;}#sk-container-id-1 div.sk-estimator:hover {background-color: #d4ebff;}#sk-container-id-1 div.sk-parallel-item::after {content: \"\";width: 100%;border-bottom: 1px solid gray;flex-grow: 1;}#sk-container-id-1 div.sk-label:hover label.sk-toggleable__label {background-color: #d4ebff;}#sk-container-id-1 div.sk-serial::before {content: \"\";position: absolute;border-left: 1px solid gray;box-sizing: border-box;top: 0;bottom: 0;left: 50%;z-index: 0;}#sk-container-id-1 div.sk-serial {display: flex;flex-direction: column;align-items: center;background-color: white;padding-right: 0.2em;padding-left: 0.2em;position: relative;}#sk-container-id-1 div.sk-item {position: relative;z-index: 1;}#sk-container-id-1 div.sk-parallel {display: flex;align-items: stretch;justify-content: center;background-color: white;position: relative;}#sk-container-id-1 div.sk-item::before, #sk-container-id-1 div.sk-parallel-item::before {content: \"\";position: absolute;border-left: 1px solid gray;box-sizing: border-box;top: 0;bottom: 0;left: 50%;z-index: -1;}#sk-container-id-1 div.sk-parallel-item {display: flex;flex-direction: column;z-index: 1;position: relative;background-color: white;}#sk-container-id-1 div.sk-parallel-item:first-child::after {align-self: flex-end;width: 50%;}#sk-container-id-1 div.sk-parallel-item:last-child::after {align-self: flex-start;width: 50%;}#sk-container-id-1 div.sk-parallel-item:only-child::after {width: 0;}#sk-container-id-1 div.sk-dashed-wrapped {border: 1px dashed gray;margin: 0 0.4em 0.5em 0.4em;box-sizing: border-box;padding-bottom: 0.4em;background-color: white;}#sk-container-id-1 div.sk-label label {font-family: monospace;font-weight: bold;display: inline-block;line-height: 1.2em;}#sk-container-id-1 div.sk-label-container {text-align: center;}#sk-container-id-1 div.sk-container {/* jupyter's `normalize.less` sets `[hidden] { display: none; }` but bootstrap.min.css set `[hidden] { display: none !important; }` so we also need the `!important` here to be able to override the default hidden behavior on the sphinx rendered scikit-learn.org. See: https://github.com/scikit-learn/scikit-learn/issues/21755 */display: inline-block !important;position: relative;}#sk-container-id-1 div.sk-text-repr-fallback {display: none;}</style><div id=\"sk-container-id-1\" class=\"sk-top-container\"><div class=\"sk-text-repr-fallback\"><pre>RandomForestClassifier(n_estimators=7)</pre><b>In a Jupyter environment, please rerun this cell to show the HTML representation or trust the notebook. <br />On GitHub, the HTML representation is unable to render, please try loading this page with nbviewer.org.</b></div><div class=\"sk-container\" hidden><div class=\"sk-item\"><div class=\"sk-estimator sk-toggleable\"><input class=\"sk-toggleable__control sk-hidden--visually\" id=\"sk-estimator-id-1\" type=\"checkbox\" checked><label for=\"sk-estimator-id-1\" class=\"sk-toggleable__label sk-toggleable__label-arrow\">RandomForestClassifier</label><div class=\"sk-toggleable__content\"><pre>RandomForestClassifier(n_estimators=7)</pre></div></div></div></div></div>"
      ],
      "text/plain": [
       "RandomForestClassifier(n_estimators=7)"
      ]
     },
     "execution_count": 17,
     "metadata": {},
     "output_type": "execute_result"
    }
   ],
   "source": [
    "rf_model.fit(X_train, y_train)"
   ]
  },
  {
   "cell_type": "code",
   "execution_count": 18,
   "metadata": {
    "id": "vCtXTjBzvV99"
   },
   "outputs": [],
   "source": [
    "y_pred = rf_model.predict(X_test)"
   ]
  },
  {
   "cell_type": "code",
   "execution_count": 19,
   "metadata": {
    "colab": {
     "base_uri": "https://localhost:8080/"
    },
    "id": "1WDEyLC_vZh1",
    "outputId": "61da1a01-3720-4836-e689-a17c1922cb32"
   },
   "outputs": [
    {
     "name": "stdout",
     "output_type": "stream",
     "text": [
      "accuracy: 0.9976917613636364\n"
     ]
    }
   ],
   "source": [
    "accuracy = accuracy_score(y_pred, y_test)\n",
    "print(f\"accuracy: {accuracy}\")"
   ]
  },
  {
   "cell_type": "code",
   "execution_count": 20,
   "metadata": {
    "colab": {
     "base_uri": "https://localhost:8080/"
    },
    "id": "-AUbiZ1x4uqg",
    "outputId": "a834149f-3bc5-413f-ea25-3149192f56e2"
   },
   "outputs": [
    {
     "data": {
      "text/plain": [
       "['./models/rf_model.joblib']"
      ]
     },
     "execution_count": 20,
     "metadata": {},
     "output_type": "execute_result"
    }
   ],
   "source": [
    "# save\n",
    "joblib.dump(rf_model, './models/rf_model.joblib', compress=False)"
   ]
  },
  {
   "cell_type": "markdown",
   "metadata": {},
   "source": [
    "$\\;$"
   ]
  },
  {
   "cell_type": "markdown",
   "metadata": {
    "id": "7HJ6r5L5rRL6"
   },
   "source": [
    "## Logistic Regression"
   ]
  },
  {
   "cell_type": "code",
   "execution_count": 21,
   "metadata": {
    "id": "SBrsioB7vshF"
   },
   "outputs": [],
   "source": [
    "logreg_model = LogisticRegression(max_iter=100)"
   ]
  },
  {
   "cell_type": "code",
   "execution_count": 22,
   "metadata": {
    "colab": {
     "base_uri": "https://localhost:8080/",
     "height": 234
    },
    "id": "R5XQIuJyrXBy",
    "outputId": "17fce49d-46a9-4b26-b40c-5f994c54ce54"
   },
   "outputs": [
    {
     "name": "stderr",
     "output_type": "stream",
     "text": [
      "/usr/local/lib/python3.10/dist-packages/sklearn/linear_model/_logistic.py:458: ConvergenceWarning: lbfgs failed to converge (status=1):\n",
      "STOP: TOTAL NO. of ITERATIONS REACHED LIMIT.\n",
      "\n",
      "Increase the number of iterations (max_iter) or scale the data as shown in:\n",
      "    https://scikit-learn.org/stable/modules/preprocessing.html\n",
      "Please also refer to the documentation for alternative solver options:\n",
      "    https://scikit-learn.org/stable/modules/linear_model.html#logistic-regression\n",
      "  n_iter_i = _check_optimize_result(\n"
     ]
    },
    {
     "data": {
      "text/html": [
       "<style>#sk-container-id-2 {color: black;background-color: white;}#sk-container-id-2 pre{padding: 0;}#sk-container-id-2 div.sk-toggleable {background-color: white;}#sk-container-id-2 label.sk-toggleable__label {cursor: pointer;display: block;width: 100%;margin-bottom: 0;padding: 0.3em;box-sizing: border-box;text-align: center;}#sk-container-id-2 label.sk-toggleable__label-arrow:before {content: \"▸\";float: left;margin-right: 0.25em;color: #696969;}#sk-container-id-2 label.sk-toggleable__label-arrow:hover:before {color: black;}#sk-container-id-2 div.sk-estimator:hover label.sk-toggleable__label-arrow:before {color: black;}#sk-container-id-2 div.sk-toggleable__content {max-height: 0;max-width: 0;overflow: hidden;text-align: left;background-color: #f0f8ff;}#sk-container-id-2 div.sk-toggleable__content pre {margin: 0.2em;color: black;border-radius: 0.25em;background-color: #f0f8ff;}#sk-container-id-2 input.sk-toggleable__control:checked~div.sk-toggleable__content {max-height: 200px;max-width: 100%;overflow: auto;}#sk-container-id-2 input.sk-toggleable__control:checked~label.sk-toggleable__label-arrow:before {content: \"▾\";}#sk-container-id-2 div.sk-estimator input.sk-toggleable__control:checked~label.sk-toggleable__label {background-color: #d4ebff;}#sk-container-id-2 div.sk-label input.sk-toggleable__control:checked~label.sk-toggleable__label {background-color: #d4ebff;}#sk-container-id-2 input.sk-hidden--visually {border: 0;clip: rect(1px 1px 1px 1px);clip: rect(1px, 1px, 1px, 1px);height: 1px;margin: -1px;overflow: hidden;padding: 0;position: absolute;width: 1px;}#sk-container-id-2 div.sk-estimator {font-family: monospace;background-color: #f0f8ff;border: 1px dotted black;border-radius: 0.25em;box-sizing: border-box;margin-bottom: 0.5em;}#sk-container-id-2 div.sk-estimator:hover {background-color: #d4ebff;}#sk-container-id-2 div.sk-parallel-item::after {content: \"\";width: 100%;border-bottom: 1px solid gray;flex-grow: 1;}#sk-container-id-2 div.sk-label:hover label.sk-toggleable__label {background-color: #d4ebff;}#sk-container-id-2 div.sk-serial::before {content: \"\";position: absolute;border-left: 1px solid gray;box-sizing: border-box;top: 0;bottom: 0;left: 50%;z-index: 0;}#sk-container-id-2 div.sk-serial {display: flex;flex-direction: column;align-items: center;background-color: white;padding-right: 0.2em;padding-left: 0.2em;position: relative;}#sk-container-id-2 div.sk-item {position: relative;z-index: 1;}#sk-container-id-2 div.sk-parallel {display: flex;align-items: stretch;justify-content: center;background-color: white;position: relative;}#sk-container-id-2 div.sk-item::before, #sk-container-id-2 div.sk-parallel-item::before {content: \"\";position: absolute;border-left: 1px solid gray;box-sizing: border-box;top: 0;bottom: 0;left: 50%;z-index: -1;}#sk-container-id-2 div.sk-parallel-item {display: flex;flex-direction: column;z-index: 1;position: relative;background-color: white;}#sk-container-id-2 div.sk-parallel-item:first-child::after {align-self: flex-end;width: 50%;}#sk-container-id-2 div.sk-parallel-item:last-child::after {align-self: flex-start;width: 50%;}#sk-container-id-2 div.sk-parallel-item:only-child::after {width: 0;}#sk-container-id-2 div.sk-dashed-wrapped {border: 1px dashed gray;margin: 0 0.4em 0.5em 0.4em;box-sizing: border-box;padding-bottom: 0.4em;background-color: white;}#sk-container-id-2 div.sk-label label {font-family: monospace;font-weight: bold;display: inline-block;line-height: 1.2em;}#sk-container-id-2 div.sk-label-container {text-align: center;}#sk-container-id-2 div.sk-container {/* jupyter's `normalize.less` sets `[hidden] { display: none; }` but bootstrap.min.css set `[hidden] { display: none !important; }` so we also need the `!important` here to be able to override the default hidden behavior on the sphinx rendered scikit-learn.org. See: https://github.com/scikit-learn/scikit-learn/issues/21755 */display: inline-block !important;position: relative;}#sk-container-id-2 div.sk-text-repr-fallback {display: none;}</style><div id=\"sk-container-id-2\" class=\"sk-top-container\"><div class=\"sk-text-repr-fallback\"><pre>LogisticRegression()</pre><b>In a Jupyter environment, please rerun this cell to show the HTML representation or trust the notebook. <br />On GitHub, the HTML representation is unable to render, please try loading this page with nbviewer.org.</b></div><div class=\"sk-container\" hidden><div class=\"sk-item\"><div class=\"sk-estimator sk-toggleable\"><input class=\"sk-toggleable__control sk-hidden--visually\" id=\"sk-estimator-id-2\" type=\"checkbox\" checked><label for=\"sk-estimator-id-2\" class=\"sk-toggleable__label sk-toggleable__label-arrow\">LogisticRegression</label><div class=\"sk-toggleable__content\"><pre>LogisticRegression()</pre></div></div></div></div></div>"
      ],
      "text/plain": [
       "LogisticRegression()"
      ]
     },
     "execution_count": 22,
     "metadata": {},
     "output_type": "execute_result"
    }
   ],
   "source": [
    "logreg_model.fit(X_train, y_train_cat)"
   ]
  },
  {
   "cell_type": "code",
   "execution_count": 23,
   "metadata": {
    "id": "MFG4TOvgvyEM"
   },
   "outputs": [],
   "source": [
    "y_pred = logreg_model.predict(X_test)"
   ]
  },
  {
   "cell_type": "code",
   "execution_count": 24,
   "metadata": {
    "colab": {
     "base_uri": "https://localhost:8080/"
    },
    "id": "abApZIqisdR2",
    "outputId": "cb35a505-ebf6-4d1b-cd96-38e369d255d4"
   },
   "outputs": [
    {
     "name": "stdout",
     "output_type": "stream",
     "text": [
      "Accuracy: 0.9838423295454546\n"
     ]
    }
   ],
   "source": [
    "accuracy = accuracy_score(y_test_cat, y_pred)\n",
    "print(f\"Accuracy: {accuracy}\")"
   ]
  },
  {
   "cell_type": "code",
   "execution_count": 25,
   "metadata": {
    "colab": {
     "base_uri": "https://localhost:8080/"
    },
    "id": "elG2qxcR7xR-",
    "outputId": "1a467de4-07ad-429f-8814-34a3ed24f7ec"
   },
   "outputs": [
    {
     "data": {
      "text/plain": [
       "['./models/logreg_model.joblib']"
      ]
     },
     "execution_count": 25,
     "metadata": {},
     "output_type": "execute_result"
    }
   ],
   "source": [
    "# save\n",
    "joblib.dump(logreg_model, './models/logreg_model.joblib', compress=False)"
   ]
  },
  {
   "cell_type": "markdown",
   "metadata": {},
   "source": [
    "$\\;$"
   ]
  },
  {
   "cell_type": "markdown",
   "metadata": {
    "id": "vnUALv1JsoDS"
   },
   "source": [
    "## SVM"
   ]
  },
  {
   "cell_type": "code",
   "execution_count": 26,
   "metadata": {
    "id": "D1JFbHW3wAnL"
   },
   "outputs": [],
   "source": [
    "svm_model = SVC(kernel='linear', C=5)"
   ]
  },
  {
   "cell_type": "code",
   "execution_count": 27,
   "metadata": {
    "colab": {
     "base_uri": "https://localhost:8080/",
     "height": 75
    },
    "id": "_cWMd_W1vyNi",
    "outputId": "75427f3d-6e0b-4008-d56f-67c6a79de312"
   },
   "outputs": [
    {
     "data": {
      "text/html": [
       "<style>#sk-container-id-3 {color: black;background-color: white;}#sk-container-id-3 pre{padding: 0;}#sk-container-id-3 div.sk-toggleable {background-color: white;}#sk-container-id-3 label.sk-toggleable__label {cursor: pointer;display: block;width: 100%;margin-bottom: 0;padding: 0.3em;box-sizing: border-box;text-align: center;}#sk-container-id-3 label.sk-toggleable__label-arrow:before {content: \"▸\";float: left;margin-right: 0.25em;color: #696969;}#sk-container-id-3 label.sk-toggleable__label-arrow:hover:before {color: black;}#sk-container-id-3 div.sk-estimator:hover label.sk-toggleable__label-arrow:before {color: black;}#sk-container-id-3 div.sk-toggleable__content {max-height: 0;max-width: 0;overflow: hidden;text-align: left;background-color: #f0f8ff;}#sk-container-id-3 div.sk-toggleable__content pre {margin: 0.2em;color: black;border-radius: 0.25em;background-color: #f0f8ff;}#sk-container-id-3 input.sk-toggleable__control:checked~div.sk-toggleable__content {max-height: 200px;max-width: 100%;overflow: auto;}#sk-container-id-3 input.sk-toggleable__control:checked~label.sk-toggleable__label-arrow:before {content: \"▾\";}#sk-container-id-3 div.sk-estimator input.sk-toggleable__control:checked~label.sk-toggleable__label {background-color: #d4ebff;}#sk-container-id-3 div.sk-label input.sk-toggleable__control:checked~label.sk-toggleable__label {background-color: #d4ebff;}#sk-container-id-3 input.sk-hidden--visually {border: 0;clip: rect(1px 1px 1px 1px);clip: rect(1px, 1px, 1px, 1px);height: 1px;margin: -1px;overflow: hidden;padding: 0;position: absolute;width: 1px;}#sk-container-id-3 div.sk-estimator {font-family: monospace;background-color: #f0f8ff;border: 1px dotted black;border-radius: 0.25em;box-sizing: border-box;margin-bottom: 0.5em;}#sk-container-id-3 div.sk-estimator:hover {background-color: #d4ebff;}#sk-container-id-3 div.sk-parallel-item::after {content: \"\";width: 100%;border-bottom: 1px solid gray;flex-grow: 1;}#sk-container-id-3 div.sk-label:hover label.sk-toggleable__label {background-color: #d4ebff;}#sk-container-id-3 div.sk-serial::before {content: \"\";position: absolute;border-left: 1px solid gray;box-sizing: border-box;top: 0;bottom: 0;left: 50%;z-index: 0;}#sk-container-id-3 div.sk-serial {display: flex;flex-direction: column;align-items: center;background-color: white;padding-right: 0.2em;padding-left: 0.2em;position: relative;}#sk-container-id-3 div.sk-item {position: relative;z-index: 1;}#sk-container-id-3 div.sk-parallel {display: flex;align-items: stretch;justify-content: center;background-color: white;position: relative;}#sk-container-id-3 div.sk-item::before, #sk-container-id-3 div.sk-parallel-item::before {content: \"\";position: absolute;border-left: 1px solid gray;box-sizing: border-box;top: 0;bottom: 0;left: 50%;z-index: -1;}#sk-container-id-3 div.sk-parallel-item {display: flex;flex-direction: column;z-index: 1;position: relative;background-color: white;}#sk-container-id-3 div.sk-parallel-item:first-child::after {align-self: flex-end;width: 50%;}#sk-container-id-3 div.sk-parallel-item:last-child::after {align-self: flex-start;width: 50%;}#sk-container-id-3 div.sk-parallel-item:only-child::after {width: 0;}#sk-container-id-3 div.sk-dashed-wrapped {border: 1px dashed gray;margin: 0 0.4em 0.5em 0.4em;box-sizing: border-box;padding-bottom: 0.4em;background-color: white;}#sk-container-id-3 div.sk-label label {font-family: monospace;font-weight: bold;display: inline-block;line-height: 1.2em;}#sk-container-id-3 div.sk-label-container {text-align: center;}#sk-container-id-3 div.sk-container {/* jupyter's `normalize.less` sets `[hidden] { display: none; }` but bootstrap.min.css set `[hidden] { display: none !important; }` so we also need the `!important` here to be able to override the default hidden behavior on the sphinx rendered scikit-learn.org. See: https://github.com/scikit-learn/scikit-learn/issues/21755 */display: inline-block !important;position: relative;}#sk-container-id-3 div.sk-text-repr-fallback {display: none;}</style><div id=\"sk-container-id-3\" class=\"sk-top-container\"><div class=\"sk-text-repr-fallback\"><pre>SVC(C=5, kernel=&#x27;linear&#x27;)</pre><b>In a Jupyter environment, please rerun this cell to show the HTML representation or trust the notebook. <br />On GitHub, the HTML representation is unable to render, please try loading this page with nbviewer.org.</b></div><div class=\"sk-container\" hidden><div class=\"sk-item\"><div class=\"sk-estimator sk-toggleable\"><input class=\"sk-toggleable__control sk-hidden--visually\" id=\"sk-estimator-id-3\" type=\"checkbox\" checked><label for=\"sk-estimator-id-3\" class=\"sk-toggleable__label sk-toggleable__label-arrow\">SVC</label><div class=\"sk-toggleable__content\"><pre>SVC(C=5, kernel=&#x27;linear&#x27;)</pre></div></div></div></div></div>"
      ],
      "text/plain": [
       "SVC(C=5, kernel='linear')"
      ]
     },
     "execution_count": 27,
     "metadata": {},
     "output_type": "execute_result"
    }
   ],
   "source": [
    "svm_model.fit(X_train, y_train_cat)"
   ]
  },
  {
   "cell_type": "code",
   "execution_count": 28,
   "metadata": {
    "id": "mW2fwsDXv2p9"
   },
   "outputs": [],
   "source": [
    "y_pred = svm_model.predict(X_test)"
   ]
  },
  {
   "cell_type": "code",
   "execution_count": 29,
   "metadata": {
    "colab": {
     "base_uri": "https://localhost:8080/"
    },
    "id": "DdEAMMpjv2zn",
    "outputId": "e5911a80-f83e-440e-cbff-9eafd24d6ada"
   },
   "outputs": [
    {
     "name": "stdout",
     "output_type": "stream",
     "text": [
      "Accuracy: 0.9969815340909091\n"
     ]
    }
   ],
   "source": [
    "accuracy = accuracy_score(y_test_cat, y_pred)\n",
    "print(f\"Accuracy: {accuracy}\")"
   ]
  },
  {
   "cell_type": "code",
   "execution_count": 30,
   "metadata": {
    "colab": {
     "base_uri": "https://localhost:8080/"
    },
    "id": "0wSqms527p2r",
    "outputId": "0c5ea471-8ad7-486a-a20c-09c8d30755a3"
   },
   "outputs": [
    {
     "data": {
      "text/plain": [
       "['./models/svm_model.joblib']"
      ]
     },
     "execution_count": 30,
     "metadata": {},
     "output_type": "execute_result"
    }
   ],
   "source": [
    "# save\n",
    "joblib.dump(svm_model, './models/svm_model.joblib', compress=False)"
   ]
  },
  {
   "cell_type": "markdown",
   "metadata": {},
   "source": [
    "$\\;$"
   ]
  },
  {
   "cell_type": "markdown",
   "metadata": {
    "id": "6sC5yFXpsrZD"
   },
   "source": [
    "## KNN"
   ]
  },
  {
   "cell_type": "code",
   "execution_count": 31,
   "metadata": {
    "id": "Ox2T1w8Ywr1g"
   },
   "outputs": [],
   "source": [
    "knn_model = KNeighborsClassifier(n_neighbors=5)"
   ]
  },
  {
   "cell_type": "code",
   "execution_count": 32,
   "metadata": {
    "colab": {
     "base_uri": "https://localhost:8080/",
     "height": 75
    },
    "id": "C5p8nkXTwl7t",
    "outputId": "9da7fdef-93ed-4447-e81b-049719998362"
   },
   "outputs": [
    {
     "data": {
      "text/html": [
       "<style>#sk-container-id-4 {color: black;background-color: white;}#sk-container-id-4 pre{padding: 0;}#sk-container-id-4 div.sk-toggleable {background-color: white;}#sk-container-id-4 label.sk-toggleable__label {cursor: pointer;display: block;width: 100%;margin-bottom: 0;padding: 0.3em;box-sizing: border-box;text-align: center;}#sk-container-id-4 label.sk-toggleable__label-arrow:before {content: \"▸\";float: left;margin-right: 0.25em;color: #696969;}#sk-container-id-4 label.sk-toggleable__label-arrow:hover:before {color: black;}#sk-container-id-4 div.sk-estimator:hover label.sk-toggleable__label-arrow:before {color: black;}#sk-container-id-4 div.sk-toggleable__content {max-height: 0;max-width: 0;overflow: hidden;text-align: left;background-color: #f0f8ff;}#sk-container-id-4 div.sk-toggleable__content pre {margin: 0.2em;color: black;border-radius: 0.25em;background-color: #f0f8ff;}#sk-container-id-4 input.sk-toggleable__control:checked~div.sk-toggleable__content {max-height: 200px;max-width: 100%;overflow: auto;}#sk-container-id-4 input.sk-toggleable__control:checked~label.sk-toggleable__label-arrow:before {content: \"▾\";}#sk-container-id-4 div.sk-estimator input.sk-toggleable__control:checked~label.sk-toggleable__label {background-color: #d4ebff;}#sk-container-id-4 div.sk-label input.sk-toggleable__control:checked~label.sk-toggleable__label {background-color: #d4ebff;}#sk-container-id-4 input.sk-hidden--visually {border: 0;clip: rect(1px 1px 1px 1px);clip: rect(1px, 1px, 1px, 1px);height: 1px;margin: -1px;overflow: hidden;padding: 0;position: absolute;width: 1px;}#sk-container-id-4 div.sk-estimator {font-family: monospace;background-color: #f0f8ff;border: 1px dotted black;border-radius: 0.25em;box-sizing: border-box;margin-bottom: 0.5em;}#sk-container-id-4 div.sk-estimator:hover {background-color: #d4ebff;}#sk-container-id-4 div.sk-parallel-item::after {content: \"\";width: 100%;border-bottom: 1px solid gray;flex-grow: 1;}#sk-container-id-4 div.sk-label:hover label.sk-toggleable__label {background-color: #d4ebff;}#sk-container-id-4 div.sk-serial::before {content: \"\";position: absolute;border-left: 1px solid gray;box-sizing: border-box;top: 0;bottom: 0;left: 50%;z-index: 0;}#sk-container-id-4 div.sk-serial {display: flex;flex-direction: column;align-items: center;background-color: white;padding-right: 0.2em;padding-left: 0.2em;position: relative;}#sk-container-id-4 div.sk-item {position: relative;z-index: 1;}#sk-container-id-4 div.sk-parallel {display: flex;align-items: stretch;justify-content: center;background-color: white;position: relative;}#sk-container-id-4 div.sk-item::before, #sk-container-id-4 div.sk-parallel-item::before {content: \"\";position: absolute;border-left: 1px solid gray;box-sizing: border-box;top: 0;bottom: 0;left: 50%;z-index: -1;}#sk-container-id-4 div.sk-parallel-item {display: flex;flex-direction: column;z-index: 1;position: relative;background-color: white;}#sk-container-id-4 div.sk-parallel-item:first-child::after {align-self: flex-end;width: 50%;}#sk-container-id-4 div.sk-parallel-item:last-child::after {align-self: flex-start;width: 50%;}#sk-container-id-4 div.sk-parallel-item:only-child::after {width: 0;}#sk-container-id-4 div.sk-dashed-wrapped {border: 1px dashed gray;margin: 0 0.4em 0.5em 0.4em;box-sizing: border-box;padding-bottom: 0.4em;background-color: white;}#sk-container-id-4 div.sk-label label {font-family: monospace;font-weight: bold;display: inline-block;line-height: 1.2em;}#sk-container-id-4 div.sk-label-container {text-align: center;}#sk-container-id-4 div.sk-container {/* jupyter's `normalize.less` sets `[hidden] { display: none; }` but bootstrap.min.css set `[hidden] { display: none !important; }` so we also need the `!important` here to be able to override the default hidden behavior on the sphinx rendered scikit-learn.org. See: https://github.com/scikit-learn/scikit-learn/issues/21755 */display: inline-block !important;position: relative;}#sk-container-id-4 div.sk-text-repr-fallback {display: none;}</style><div id=\"sk-container-id-4\" class=\"sk-top-container\"><div class=\"sk-text-repr-fallback\"><pre>KNeighborsClassifier()</pre><b>In a Jupyter environment, please rerun this cell to show the HTML representation or trust the notebook. <br />On GitHub, the HTML representation is unable to render, please try loading this page with nbviewer.org.</b></div><div class=\"sk-container\" hidden><div class=\"sk-item\"><div class=\"sk-estimator sk-toggleable\"><input class=\"sk-toggleable__control sk-hidden--visually\" id=\"sk-estimator-id-4\" type=\"checkbox\" checked><label for=\"sk-estimator-id-4\" class=\"sk-toggleable__label sk-toggleable__label-arrow\">KNeighborsClassifier</label><div class=\"sk-toggleable__content\"><pre>KNeighborsClassifier()</pre></div></div></div></div></div>"
      ],
      "text/plain": [
       "KNeighborsClassifier()"
      ]
     },
     "execution_count": 32,
     "metadata": {},
     "output_type": "execute_result"
    }
   ],
   "source": [
    "knn_model.fit(X_train, y_train)"
   ]
  },
  {
   "cell_type": "code",
   "execution_count": 33,
   "metadata": {
    "id": "ow7FWVIwwnsa"
   },
   "outputs": [],
   "source": [
    "y_pred = knn_model.predict(X_test)"
   ]
  },
  {
   "cell_type": "code",
   "execution_count": 34,
   "metadata": {
    "colab": {
     "base_uri": "https://localhost:8080/"
    },
    "id": "jAW5CYlLwpqV",
    "outputId": "542ff85b-72b2-4a0c-fe36-1afef0bee3b2"
   },
   "outputs": [
    {
     "name": "stdout",
     "output_type": "stream",
     "text": [
      "accuracy: 0.9991122159090909\n"
     ]
    }
   ],
   "source": [
    "accuracy = accuracy_score(y_test, y_pred)\n",
    "print(f\"accuracy: {accuracy}\")"
   ]
  },
  {
   "cell_type": "code",
   "execution_count": 35,
   "metadata": {
    "colab": {
     "base_uri": "https://localhost:8080/"
    },
    "id": "e7EH-lajwsQu",
    "outputId": "6c8e0c68-be20-473d-a0ae-42a034f2f84e"
   },
   "outputs": [
    {
     "data": {
      "text/plain": [
       "['./models/knn_model.joblib']"
      ]
     },
     "execution_count": 35,
     "metadata": {},
     "output_type": "execute_result"
    }
   ],
   "source": [
    "# save\n",
    "joblib.dump(knn_model, './models/knn_model.joblib', compress=0)"
   ]
  },
  {
   "cell_type": "markdown",
   "metadata": {
    "id": "iSbNyCUg_ray"
   },
   "source": [
    "\n",
    "# :)"
   ]
  }
 ],
 "metadata": {
  "accelerator": "GPU",
  "colab": {
   "gpuType": "T4",
   "provenance": []
  },
  "kernelspec": {
   "display_name": "Python 3 (ipykernel)",
   "language": "python",
   "name": "python3"
  },
  "language_info": {
   "codemirror_mode": {
    "name": "ipython",
    "version": 3
   },
   "file_extension": ".py",
   "mimetype": "text/x-python",
   "name": "python",
   "nbconvert_exporter": "python",
   "pygments_lexer": "ipython3",
   "version": "3.10.9"
  }
 },
 "nbformat": 4,
 "nbformat_minor": 1
}
